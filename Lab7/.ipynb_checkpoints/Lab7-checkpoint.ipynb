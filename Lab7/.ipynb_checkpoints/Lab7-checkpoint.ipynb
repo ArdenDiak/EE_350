{
 "cells": [
  {
   "cell_type": "markdown",
   "metadata": {},
   "source": [
    "###### Lab 7 - EE350\n",
    "# Estimation et prédiction linéaire\n",
    "\n",
    "**NOM, prénom :**\n",
    "DIAKHATE-PALME, Arden\n",
    "\n",
    "À rendre le 20 decembre 2021\n",
    "\n",
    "Pour faciliter la correction, merci de nommer le fichier compressé que vous soumettez NOM_prenom_lab7.zip et les noms de tous les auteurs. \n"
   ]
  },
  {
   "cell_type": "code",
   "execution_count": 4,
   "metadata": {},
   "outputs": [],
   "source": [
    "# Imports\n",
    "from scipy import signal, special\n",
    "import numpy as np\n",
    "import numpy.random as npr\n",
    "from scipy.io import wavfile\n",
    "from scipy.fftpack import fft, fftshift\n",
    "import matplotlib.pyplot as plt\n",
    "import math\n",
    "from scipy.io import wavfile\n",
    "from scipy.linalg import toeplitz"
   ]
  },
  {
   "cell_type": "markdown",
   "metadata": {},
   "source": [
    "## Exercice 1: Prédiction linéaire\n",
    "\n",
    "Dans cette question on va étudier la prédiction linéaire d'un signal correspondant à un processus aléatoire. Ce processus aléatoire est donné par:\n",
    "\n",
    "$$\n",
    "x(n)−0.8x(n−1)+0.15x(n−2) = 3w(n)−1.1w(n−1)\n",
    "$$\n",
    "\n",
    "avec $w(n)$, un bruit blanc avec moyenne nulle et variance $\\sigma^2_w$."
   ]
  },
  {
   "cell_type": "markdown",
   "metadata": {},
   "source": [
    "**1.** De quel type de processus aléatoire s'agit-il (AR, MA ou ARMA)? Le processus est-il stationnaire? Discutez."
   ]
  },
  {
   "cell_type": "markdown",
   "metadata": {},
   "source": [
    " Réponse : Il s'agit d'un processus ARMA. Le bruit blanc $w(n)$ est stationnaire, alors le processus $X(n)$ est aussi stationnaire."
   ]
  },
  {
   "cell_type": "markdown",
   "metadata": {},
   "source": [
    "**2.** Calculez la fonction de transfert $H(z)$  qui décrit le processus générant $x(n)$ à partir\n",
    "de $w(n)$."
   ]
  },
  {
   "cell_type": "markdown",
   "metadata": {},
   "source": [
    " Réponse : Pour un processus ARMA,\n",
    " $$\n",
    " H(z) = \\frac{B(z)}{A(z)} = \\frac{3 - 1.1z^{-1}}{1 - 0.8z^{-1} +0.15z^{-2}}\n",
    " $$"
   ]
  },
  {
   "cell_type": "markdown",
   "metadata": {},
   "source": [
    "**3.** Appliquez la transformée en $Z$ inverse afin d’obtenir la réponse impulsionnelle $h(n)$ en vous rappelant que la transformée en $Z$ inverse d’un système causal avec un pôle $H(z) = \\dfrac{1}{1-az^{-1}}$ est $h(n) = a^nu(n)$."
   ]
  },
  {
   "cell_type": "markdown",
   "metadata": {},
   "source": [
    " Réponse : "
   ]
  },
  {
   "cell_type": "markdown",
   "metadata": {},
   "source": [
    "\n",
    "**4.** Fournissez le système d'équations pour les trois premiers coefficients de la fonction de corrélation de $x(n)$: $ \\gamma_{xx}(0), \\gamma_{xx}(1)$ et $\\gamma_{xx}(2)$ à partir du système suivant :\n",
    "$$\n",
    "\\gamma_{xx}(m) =\n",
    "\\begin{cases}\n",
    "    -\\sum_{k=1}^p a_k \\gamma_{xx}(m-k), & m > q \\\\\n",
    "    -\\sum_{k=1}^p a_k \\gamma_{xx}(m-k)+ \\sigma^2_w \\sum_{k=0}^{q-m}b_{k+m}h(k), & 0 \\leq m \\leq q \\\\\n",
    "    \\gamma^*_{xx}(-m), & m < 0\n",
    "\\end{cases}\n",
    "$$\n",
    "Considerez que $\\sigma^2_w =2$.\n",
    "<!-- Trouvez les trois premiers coefficients de la fonction d’auto-corrélation de $x(n)$: $\\gamma_{xx}(0), \\gamma_{xx}(1)$ et\n",
    "$\\gamma_{xx}(2)$ en terme des $\\sigma^2_w$. -->\n",
    "\n",
    "\n",
    "\n",
    "\n",
    "**Rappel :** Pour les signaux à valeur dans $\\mathbb R$, $\\gamma_{xx}(-m) = \\gamma_{xx}(m)$.\n"
   ]
  },
  {
   "cell_type": "markdown",
   "metadata": {},
   "source": [
    "Réponse :\n",
    "$$ x(n)−0.8x(n−1)+0.15x(n−2) = 3w(n)−1.1w(n−1) $$\n",
    "\n",
    "Given that $p=2$ and $q=1$ from the expression of an ARMA process given above, we can simplify $\\gamma_{xx}(0)$ to the following since $0 \\leq m \\leq q \\implies 0 \\leq m=0 \\leq 1$:\n",
    "\n",
    "$\\begin{align}\n",
    "\\gamma_{xx}(m) = -\\sum_{k=1}^p a_k \\gamma_{xx}(m-k)+ \\sigma^2_w \\sum_{k=0}^{q-m}b_{k+m}h(k)\n",
    "\\end{align}$"
   ]
  },
  {
   "cell_type": "markdown",
   "metadata": {},
   "source": [
    "**5. Equations normales** \n",
    "Les équations normales qui décrivent le filtre de prédiction linéaire optimale du second ordre sont :\n",
    "\n",
    "\\begin{align}\n",
    "\\gamma_{xx}(1) &= −a_2(1)\\gamma_{xx}(0) − a_2(2)\\gamma_{xx}(−1) \\\\\n",
    "\\gamma_{xx}(2) &= −a_2(1)\\gamma_{xx}(1) − a_2(2)\\gamma_{xx}(0)\n",
    "\\end{align}\n",
    "\n",
    "En utilisant ces équations, calculez les coefficients $a_2(1)$ et $a_2(2)$ du filtre de prédiction linéaire optimal du second ordre en fonction de $\\gamma_{xx}(0)$, $\\gamma_{xx}(1)$ et $\\gamma_{xx}(2)$. Donnez l'expression de l'erreur quadratique moyenne minimale du filtre, $\\min\\mathcal{E}^f_2$.\n",
    "\n"
   ]
  },
  {
   "cell_type": "markdown",
   "metadata": {},
   "source": [
    "Réponse :\n"
   ]
  },
  {
   "cell_type": "markdown",
   "metadata": {},
   "source": [
    "## Exercice 2 : Filtre de Wiener"
   ]
  },
  {
   "cell_type": "markdown",
   "metadata": {},
   "source": [
    "### Filtre de Wiener \n",
    "Dans cet exercice, nous étudions le débruitage d'un signal audio en utilisant un filtre de Wiener RIF. Considérez le modèle $x(n)= d(n) + v(n) $ où $d(n)$ est le signal d’intérêt, $v(n)$ est un signal de bruit blanc et $x(n)$ est une observation bruitée de $d(n)$. Nous aimerions obtenir une estimation $y(n)$ du signal $d(n)$ à partir du signal bruité $x(n)$ à l'aide d'un filtre (de Wiener) optimum $h(n)$ de taille $M$ :\n",
    "\n",
    "\\begin{equation} \n",
    "    y(n)=\\sum_{k=0}^{M-1}h(k) x(n-k)\n",
    "\\end{equation}\n"
   ]
  },
  {
   "cell_type": "markdown",
   "metadata": {},
   "source": [
    "Afin de débruiter le signal, nous allons modéliser le signal audio $d(n)$ comme un processus stationnaire et ergodique, ce qui nous permet d'estimer ces propriétés statistiques à partir d'une réalisation donnée.\n",
    "\n",
    "\n",
    "**1. Autocorrélation :**   \n",
    "Dérivez (précisez chaque étape) l'expression de l'autocorrélation $\\gamma_{dd}(k)$ du signal $d(n)$ en fonction de l'autocorrélation $\\gamma_{xx}(k)$ du signal bruité et la variance $\\sigma_v^2$ du bruit blanc $v(n)$.\n",
    "    Obtenez aussi l'intercorrélation $\\gamma_{dx}(k)$ de $d(n)$ et $x(n)$ en fonction de $\\gamma_{dd}(k)$. "
   ]
  },
  {
   "cell_type": "markdown",
   "metadata": {},
   "source": [
    "**2. Autocorrélation de x :**\n",
    "\n",
    "Dans le code suivant,  les 50 premières valeurs de l'auto-correlation temporelle $r_{xx}(k)$ (pour $k=0, 1, \\dots, 49$) sont affichés en utilisant un estimateur non-biaisé $r_{xx} (k)$ de l'autocorrelation statistique $\\gamma_{xx}(k)$ du signal $x(n)$ à l'aide de la fonction ```numpy.correlate```. \n",
    "Quelle approximation peut-on faire qui relie $r_{xx} (k)$ et $\\gamma_{xx}(k)$? Vous pouvez vous inspirer du code suivant : "
   ]
  },
  {
   "cell_type": "code",
   "execution_count": 6,
   "metadata": {},
   "outputs": [
    {
     "data": {
      "text/plain": [
       "Text(0, 0.5, ' r_xx (k)')"
      ]
     },
     "execution_count": 6,
     "metadata": {},
     "output_type": "execute_result"
    },
    {
     "data": {
      "image/png": "[encoded data removed]",
      "text/plain": [
       "<Figure size 432x288 with 1 Axes>"
      ]
     },
     "metadata": {
      "needs_background": "light"
     },
     "output_type": "display_data"
    }
   ],
   "source": [
    "# Read file with wavread\n",
    "samplerate, x = wavfile.read('x.wav')\n",
    "\n",
    "# #Normalize to -1 to +1\n",
    "x = x / 32767\n",
    "\n",
    "# Correlation normalize\n",
    "# Pour calculer l'autocorrélation, on fait comme dans le premier exercice\n",
    "N = len(x)\n",
    "\n",
    "corr = np.correlate(x, x, \"full\")\n",
    "normalization = np.arange(N, 0, -1)\n",
    "r_xx = corr[:N][::-1]     # Keep the right coefficients and revert the array\n",
    "r_xx = r_xx / normalization\n",
    "\n",
    "plt.stem(r_xx[:50])\n",
    "plt.xlabel('k')\n",
    "plt.ylabel(' r_xx (k)')"
   ]
  },
  {
   "cell_type": "markdown",
   "metadata": {},
   "source": [
    "Réponse :"
   ]
  },
  {
   "cell_type": "markdown",
   "metadata": {},
   "source": [
    "**3. Autocorrelation de $d$**\n",
    "\n",
    "\n",
    "*   On considère la variance $\\sigma_v^2$ du bruit connue : $\\sigma_v^2 =0.01$. \n",
    "    De plus, utilisez l'expression de l'autocorrélation $\\gamma_{dd}(k)$ en fonction de $\\gamma_{xx}(k)$ et $\\sigma_v^2$ (exercise 2.1).  \n",
    "    Calculez l'autocorrélation $\\gamma_{dd}(k)$ du signal $d(n)$ et tracez les 50 premières valeurs de $\\gamma_{dd}(k)$.  Vous pouvez compléter le code suivant :"
   ]
  },
  {
   "cell_type": "code",
   "execution_count": null,
   "metadata": {},
   "outputs": [],
   "source": [
    "sigma_v_2 = 0.01\n",
    "\n",
    "\n",
    "gamma_xx = r_xx.copy()\n",
    "# TODO:  \n",
    "gamma_dd = \n",
    "gamma_dd[0] = \n",
    "\n",
    "plt.stem(gamma_dd[:50])\n",
    "plt.xlabel('k')\n",
    "plt.ylabel('gamma_dd(k)')"
   ]
  },
  {
   "cell_type": "markdown",
   "metadata": {},
   "source": [
    "**4. Filtre de Wiener :**\n",
    "*   D'après le cours, les coefficients du filtre RIF de Wiener d'ordre M sont donnés par la relation matricielle suivante: $h = \\Gamma^{-1} \\gamma_{d} $\n",
    "avec $\\Gamma \\in \\mathbb{R}^{M \\times M}$ une matrice de Toeplitz telle que $\\Gamma_{kl} = \\gamma_{xx} \\left( l - k \\right)$\t et $\\gamma_{d} \\in \\mathbb{R}^M$ tel que $\\gamma_{d} (k) = \\gamma_{dx} (k)$.\n",
    "\n",
    "\tEn prenant $M = 10$, concevez sur Python le filtre de Wiener correspondant. Appliquez le filtre sur le signal $x(n)$. \n",
    "\tEcoutez le signal de la sortie $y(n)$ et comparez-le avec le signal original bruité $x(n)$. Vous pouvez vous inspirer du code suivant.\n"
   ]
  },
  {
   "cell_type": "code",
   "execution_count": null,
   "metadata": {
    "scrolled": true
   },
   "outputs": [],
   "source": [
    "\n",
    "M = 10\n",
    "\n",
    "r = r_xx.reshape((1, len(r_xx)))\n",
    "gamma_i = np.linalg.pinv(toeplitz(r[:, 0:M]))\n",
    "gd = gamma_dd[0:M]\n",
    "h = gamma_i @ gd.reshape((M, 1))\n",
    "print('Filter Coefficients:',h)\n",
    "\n",
    "# Apply filter to signal x[n]\n",
    "y = np.convolve(h[:, 0], x, 'same')\n",
    "wavfile.write('filtered.wav', samplerate, y)\n",
    "\n"
   ]
  },
  {
   "cell_type": "markdown",
   "metadata": {},
   "source": [
    "Réponse :\n"
   ]
  },
  {
   "cell_type": "markdown",
   "metadata": {},
   "source": [
    "*    Calculez la valeur de l'erreur (quadratique moyenne) minimale à partir de la formule  $MMSE=\\sigma_d^2 - \\gamma_d^{*t} \\, \\Gamma^{-1} \\, \\gamma_d$  \n",
    "du filtre de taille $M=10$. Comparez avec l'erreur quadratique moyenne obtenue en pratique (c'est-à-dire la distance entre le signal filtré et le signal non bruité) donné par ```musique.wav```. Vous pouvez utiliser le code suivant: "
   ]
  },
  {
   "cell_type": "code",
   "execution_count": null,
   "metadata": {},
   "outputs": [],
   "source": [
    "_, d = wavfile.read('musique.wav')\n",
    "d = d/32767\n",
    "start = 50000\n",
    "d = d[start: start + len(y)]\n",
    "\n",
    "# TODO\n",
    "MMSE_theo = ... - ... @ ... \n",
    "print('Theoretical value of MMSE is '+str(MMSE_theo))\n",
    "\n",
    "# TODO: Error between true signal(y) and filtered output(d)\n",
    "err =\n",
    "print('Exp error: '+str(err))"
   ]
  },
  {
   "cell_type": "markdown",
   "metadata": {},
   "source": [
    "Réponse :\n"
   ]
  }
 ],
 "metadata": {
  "kernelspec": {
   "display_name": "Python 3 (ipykernel)",
   "language": "python",
   "name": "python3"
  },
  "language_info": {
   "codemirror_mode": {
    "name": "ipython",
    "version": 3
   },
   "file_extension": ".py",
   "mimetype": "text/x-python",
   "name": "python",
   "nbconvert_exporter": "python",
   "pygments_lexer": "ipython3",
   "version": "3.9.7"
  }
 },
 "nbformat": 4,
 "nbformat_minor": 2
}
