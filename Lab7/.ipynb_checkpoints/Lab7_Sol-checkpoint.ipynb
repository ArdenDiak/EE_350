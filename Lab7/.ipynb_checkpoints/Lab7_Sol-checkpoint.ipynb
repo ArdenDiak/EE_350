{
 "cells": [
  {
   "cell_type": "markdown",
   "metadata": {},
   "source": [
    "###### Lab 7 - EE350\n",
    "# Estimation et prédiction linéaire\n",
    "\n",
    "**NOM, prénom :**\n",
    "\n",
    "À rendre le 20 decembre 2020\n",
    "\n",
    "Pour faciliter la correction, merci de nommer le fichier compressé que vous soumettez NOM_prenom_lab7.zip"
   ]
  },
  {
   "cell_type": "code",
   "execution_count": null,
   "metadata": {},
   "outputs": [],
   "source": [
    "# Requirements\n",
    "! pip install scipy\n",
    "! pip install numpy\n",
    "! pip install matplotlib"
   ]
  },
  {
   "cell_type": "code",
   "execution_count": null,
   "metadata": {},
   "outputs": [],
   "source": [
    "# Imports\n",
    "from scipy import signal, special\n",
    "import numpy as np\n",
    "import numpy.random as npr\n",
    "from scipy.io import wavfile\n",
    "from scipy.fftpack import fft, fftshift\n",
    "import matplotlib.pyplot as plt\n",
    "import math\n",
    "from scipy.io import wavfile\n",
    "from scipy.linalg import toeplitz"
   ]
  },
  {
   "cell_type": "markdown",
   "metadata": {},
   "source": [
    "## Exercice 1: Prédiction linéaire\n",
    "\n",
    "Dans cette question on va étudier la prédiction linéaire d'un signal correspondant à un processus aléatoire. Soit un processus aléatoire donné par:\n",
    "\n",
    "$$\n",
    "x(n)−0.8x(n−1)+0.15x(n−2) = 3w(n)−1.1w(n−1)\n",
    "$$\n",
    "\n",
    "avec $w(n)$, un bruit blanc avec moyenne nulle et variance $\\sigma^2_w$."
   ]
  },
  {
   "cell_type": "markdown",
   "metadata": {},
   "source": [
    "**1.** De quel type de processus s'agit-il (AR, MA ou ARMA)? Le processus est-il stationnaire? Discutez."
   ]
  },
  {
   "cell_type": "markdown",
   "metadata": {},
   "source": [
    "**Réponse :**\n",
    "Il s'agit d'un processus ARMA, car le processus décrit ci-dessus possède à la fois des zéros et des pôles. On peut le réécrire sous la forme :\n",
    "$$\n",
    "x(n) + \\sum_{k=1}^p a_kx(n-k) = \\sum_{k=0}^q b_kw(n-k),\n",
    "$$\n",
    "où ni les $a_k$ ni les $b_k$ sont tous nuls. \n",
    "Par ailleurs, comme $x(n)$ est la sortie d'un système linéaire causal excité par un bruit blanc, le processus est bien stationnaire."
   ]
  },
  {
   "cell_type": "markdown",
   "metadata": {},
   "source": [
    "**2. Calculez la fonction de transfert $H(z)$  qui décrit le processus générant $x(n)$ à partir\n",
    "de $w(n)$.**"
   ]
  },
  {
   "cell_type": "markdown",
   "metadata": {},
   "source": [
    "\\begin{align}\n",
    "x(n)−0.8x(n−1)+0.15x(n−2) = 3w(n)−1.1w(n−1) \\qquad \\text{donne}\\\\\n",
    "X(z)-0.8X(z)z^{-1}+0.15X(z)z^{-2} &= 3W(z)−1.1W(z)z^{-1} \\\\\n",
    "X(z)\\big[1-0.8z^{-1} + 0.15z^{-2}\\big] &= W(z)\\big[3 - 1.1z^{-1}\\big] \\\\\n",
    "\\dfrac{W(z)}{X(z)} &= \\dfrac{3 - 1.1z^{-1}}{1-0.8z^{-1} + 0.15z^{-2}}\n",
    "\\end{align}\n",
    "\n",
    "On décompose la fraction en éléments simples ([rappel](http://christophebertault.fr/documents/coursetexercices/Cours%20-%20Introduction%20a%20la%20decomposition%20en%20elements%20simples.pdf) pour les calculs):\n",
    "$$\n",
    "H(z) = \\dfrac{3 - 1.1z^{-1}}{1-0.8z^{-1} + 0.15z^{-2}} = \\dfrac{A}{1-0.3z^{-1}} + \\dfrac{B}{1-0.5z^{-1}}$$\n",
    "\n",
    "\n",
    "On trouve $A=1,B=2$. On a donc:\n",
    "$$\n",
    "\\begin{align}\n",
    "H(z) &= \\dfrac{1}{1-0.3z^{-1}} + \\dfrac{2}{1-0.5z^{-1}}\n",
    "\\end{align}\n",
    "$$"
   ]
  },
  {
   "cell_type": "markdown",
   "metadata": {},
   "source": [
    "**3. Ensuite, appliquez la transformée en $Z$ inverse afin d’obtenir la réponse impulsionnelle $h(n)$ en vous rappelant que la transformée en $Z$ inverse d’un système causal avec un pôle $H(z) = \\dfrac{1}{1-az^{-1}}$ est $h(n) = a^nu(n)$.**"
   ]
  },
  {
   "cell_type": "markdown",
   "metadata": {},
   "source": [
    "La réponse impulsionnelle est\n",
    "$$\n",
    "\\begin{align}\n",
    "h(n) &= (0.3)^nu(n) + 2(0.5)^nu(n)\n",
    "\\end{align}\n",
    "$$"
   ]
  },
  {
   "cell_type": "markdown",
   "metadata": {},
   "source": [
    "\n",
    "**4. Calculez de l'autocorrélation** Fournir le système d'équations pour les trois premiers coefficients de la fonction de corrélation de $x(n)$: $ \\gamma_{xx}(0), \\gamma_{xx}(1)$ et $\\gamma_{xx}(2)$ à partir du système suivant :\n",
    "$$\n",
    "\\gamma_{xx}(m) =\n",
    "\\begin{cases}\n",
    "    -\\sum_{k=1}^p a_k \\gamma_{xx}(m-k), & m > q \\\\\n",
    "    -\\sum_{k=1}^p a_k \\gamma_{xx}(m-k)+ \\sigma^2_w \\sum_{k=0}^{q-m}b_{k+m}h(k), & 0 \\leq m \\leq q \\\\\n",
    "    \\gamma^*_{xx}(-m), & m < 0\n",
    "\\end{cases}\n",
    "$$\n",
    "Considerez que $\\sigma^2_w =2$.\n",
    "<!-- Trouvez les trois premiers coefficients de la fonction d’auto-corrélation de $x(n)$: $\\gamma_{xx}(0), \\gamma_{xx}(1)$ et\n",
    "$\\gamma_{xx}(2)$ en terme des $\\sigma^2_w$. -->\n",
    "\n",
    "\n",
    "\n",
    "\n",
    "**Conseils :** Utilisez que pour les signaux à valeur dans $\\mathbb R$, $\\gamma_{xx}(-m) = \\gamma_{xx}(m)$.\n"
   ]
  },
  {
   "cell_type": "markdown",
   "metadata": {},
   "source": [
    "**Réponse :** \n",
    "\n",
    "On peut calculer l'autocorrélation du processus ARMA à partir du système suivant :\n",
    "\n",
    "$$\n",
    "\\begin{align}\n",
    "\\gamma_{xx}(0) = 0.8\\gamma_{xx}(−1) − 0.15\\gamma_{xx}(−2) + 3\\sigma^2_wh(0) - 1.1\\sigma^2_wh(1) \\implies \\gamma_{xx}(0) &= 0.8\\gamma_{xx}(−1) − 0.15\\gamma_{xx}(−2) + 7.57\\sigma^2_w = 0.8\\gamma_{xx}(1) − 0.15\\gamma_{xx}(2) + 15.14 \\\\\n",
    "\\gamma_{xx}(1) = 0.8\\gamma_{xx}(0) − 0.15\\gamma_{xx}(−1) - 1.1\\sigma^2_wh(0) \\implies \\gamma_{xx}(1) &= 0.8\\gamma_{xx}(0) − 0.15\\gamma_{xx}(−1) - 3.3\\sigma^2_w= 0.8\\gamma_{xx}(0) − 0.15\\gamma_{xx}(1) - 6.6\\\\\n",
    "\\gamma_{xx}(2) &= 0.8\\gamma_{xx}(1) − 0.15\\gamma_{xx}(0)\n",
    "\\end{align}\n",
    "$$\n",
    "\n",
    "De plus, on sait que pour des signaux à valeur dans $\\mathbb R$, $\\gamma_{xx}(-m) = \\gamma_{xx}(m)$. On peut donc simplifier le système pour avoir\n",
    "\n",
    "\n",
    "$$\n",
    "\\begin{bmatrix} \n",
    "    15.14 \\\\\n",
    "    -6.6 \\\\ \n",
    "    0\n",
    "\\end{bmatrix}\n",
    "=\n",
    "\\begin{bmatrix}\n",
    "    1 & -0.8 & 0.15 \\\\\n",
    "    -0.8 & 1.15 & 0 \\\\\n",
    "    0.15 & -0.8 & 1\n",
    "\\end{bmatrix}\n",
    "\\begin{bmatrix} \n",
    "    \\gamma_{xx}(0) \\\\\n",
    "    \\gamma_{xx}(1) \\\\ \n",
    "    \\gamma_{xx}(2)\n",
    "\\end{bmatrix}\n",
    "$$\n"
   ]
  },
  {
   "cell_type": "markdown",
   "metadata": {},
   "source": [
    "**5. Équations normales** \n",
    "Les équations normales qui décrivent le filtre de prédiction linéaire optimale du second ordre sont :\n",
    "\n",
    "\\begin{align}\n",
    "\\gamma_{xx}(1) &= −a_2(1)\\gamma_{xx}(0) − a_2(2)\\gamma_{xx}(−1) \\\\\n",
    "\\gamma_{xx}(2) &= −a_2(1)\\gamma_{xx}(1) − a_2(2)\\gamma_{xx}(0)\n",
    "\\end{align}\n",
    "\n",
    "En utilisant ces équations, calculez les coefficients $a_2(1)$ et $a_2(2)$ du filtre de prédiction linéaire optimal du second ordre en fonction de $\\gamma_{xx}(0)$, $\\gamma_{xx}(1)$ et $\\gamma_{xx}(2)$. Donnez l'expression de l'erreur quadratique moyenne minimale du filtre, $\\min\\mathcal{E}^f_2$.\n",
    "\n"
   ]
  },
  {
   "cell_type": "markdown",
   "metadata": {},
   "source": [
    "**Réponse :**\n",
    "Les équations normales qui décrivent le filtre de prédiction linéaire optimale du second ordre sont :\n",
    "\n",
    "\\begin{align}\n",
    "\\gamma_{xx}(1) &= −a_2(1)\\gamma_{xx}(0) − a_2(2)\\gamma_{xx}(−1) \\\\\n",
    "\\gamma_{xx}(2) &= −a_2(1)\\gamma_{xx}(1) − a_2(2)\\gamma_{xx}(0)\n",
    "\\end{align}\n",
    "\n",
    "La solution au problème linéaire de prédiction d'ordre 2 est donc donnée par : \n",
    "$$\n",
    "\\begin{bmatrix} \n",
    "    a_2(1) \\\\\n",
    "    a_2(2)\n",
    "\\end{bmatrix}\n",
    "= -\n",
    "\\begin{bmatrix}\n",
    "    \\gamma_{xx}(1) \\\\\n",
    "    \\gamma_{xx}(2)\n",
    "\\end{bmatrix}\n",
    "\\begin{bmatrix} \n",
    "    \\gamma_{xx}(0) &  \\gamma_{xx}(1)\\\\\n",
    "    \\gamma_{xx}(1) & \\gamma_{xx}(0)\n",
    "\\end{bmatrix}^{-1}\n",
    "$$\n",
    "\n",
    "Et l'erreur quadratique moyenne est :\n",
    "$$\n",
    "\\begin{align}\n",
    "\\mathcal{E}^f_p &= \\gamma_{xx}(0) + \\sum_{k=1}^p a_p(k)\\gamma_{xx}(-k) \\implies \\\\\n",
    "\\implies \\mathcal{E}^f_2 &= \\gamma_{xx}(0) + \\sum_{k=1}^2 a_2(k)\\gamma_{xx}(-k) \\implies \\\\\n",
    "\\implies \\mathcal{E}^f_2 &= \\gamma_{xx}(0) + a_2(1)\\gamma_{xx}(-1) + a_2(2)\\gamma_{xx}(-2) \\implies \\\\\n",
    "\\implies \\mathcal{E}^f_2 &= \\begin{bmatrix} 1 & a_2(1) & a_2(2) \\end{bmatrix} \\begin{bmatrix} \\gamma_{xx}(0) \\\\ \\gamma_{xx}(1) \\\\ \\gamma_{xx}(2) \\end{bmatrix}\n",
    "\\end{align}\n",
    "$$\n"
   ]
  },
  {
   "cell_type": "markdown",
   "metadata": {},
   "source": [
    "## Exercice 2 : Filtre de Wiener"
   ]
  },
  {
   "cell_type": "markdown",
   "metadata": {},
   "source": [
    "### Filtre de Wiener \n",
    "Dans cet exercice, nous étudions le débruitage d'un signal audio en utilisant un filtre de Wiener RIF. Considérez le modèle $x(n)= d(n) + v(n) $ où $d(n)$ est le signal d’intérêt, $v(n)$ est un signal de bruit blanc et $x(n)$ est une observation bruitée de $d(n)$. Nous aimerions obtenir une estimation $y(n)$ du signal $d(n)$ à partir du signal bruité $x(n)$ à l'aide d'un filtre (de Wiener) optimum $h(n)$ de taille $M$ :\n",
    "\n",
    "\\begin{equation} \n",
    "    y(n)=\\sum_{k=0}^{M-1}h(k) x(n-k)\n",
    "\\end{equation}\n"
   ]
  },
  {
   "cell_type": "markdown",
   "metadata": {},
   "source": [
    "Afin de débruiter le signal, nous allons modéliser le signal audio $d(n)$ comme un processus stationnaire et ergodique, ce qui nous permet d'estimer ces propriétés statistiques à partir d'une réalisation donnée.\n",
    "\n",
    "\n",
    "**1. Autocorrélation :**   Dérivez (préciser chaque étape) l'expression de l'autocorrélation $\\gamma_{dd}(k)$ du signal $d(n)$ en fonction de l'autocorrélation $\\gamma_{xx}(k)$ du signal bruité et la variance $\\sigma_v^2$ du bruit blanc $v(n)$.\n",
    "    Obtenez aussi l'intercorrélation $\\gamma_{dx}(k)$ de $d(n)$ et $x(n)$ en fonction de $\\gamma_{dd}(k)$. "
   ]
  },
  {
   "cell_type": "markdown",
   "metadata": {},
   "source": [
    "**Réponse:**\n",
    "\n",
    "Nous dérivons la relation entre les autocorrélations de $x(n)$ et $d(n)$ comme suit:\n",
    "\\begin{align*}\n",
    "    \\gamma_{xx}(k) &= E[x^*(n)x(n+k)] = E[(d^*(n)+v^*(n)) (d(n+k)+v(n+k))] \\\\\n",
    "    \t&=  E[d^*(n)d(n+k)] +E[v^*(n)v(n+k)] = \\gamma_{dd}(k) + \\gamma_{vv}(k)\\\\\n",
    "    \t&= \\gamma_{dd}(k) + \\sigma_v^2 \\, \\delta(k).\n",
    "\\end{align*}\n",
    "\n",
    "L'autocorrélation de $d(n)$ est donc donnée par\n",
    "\\begin{equation*}\n",
    "    \\gamma_{dd}(k) = \\gamma_{xx}(k) - \\sigma_v^2 \\, \\delta(k).\n",
    "\\end{equation*}\n",
    "\n",
    "L'intercorrélation $\\gamma_{dx}(k)$ peut être obtenue de la même façon:\n",
    "\\begin{align*}\n",
    "\\gamma_{dx}(k) &= E[d^*(n)x(n+k)] = E[d^*(n) (d(n+k)+v(n+k))] \\\\\n",
    "\t&= \\gamma_{dd}(k)\n",
    "\\end{align*}\n",
    "\n",
    "---"
   ]
  },
  {
   "cell_type": "markdown",
   "metadata": {},
   "source": [
    "**2. Autocorrélation de x :**\n",
    "\n",
    "*    Dans le code suivant,  les 50 premières valeurs de $r_{xx}(k)$ (pour $k=0, 1, \\dots, 49$) sont affichés utilisant  un estimateur non-biaisé $r_{xx} (k)$ de l'autocorrelation $\\gamma_{xx}(k)$ du signal $x(n)$ à l'aide de la fonction ```numpy.correlate```. \n",
    "Quelle hypothèse peut-on faire sur $r_{xx} (k)$ et $\\gamma_{xx}(k)$?  "
   ]
  },
  {
   "cell_type": "code",
   "execution_count": null,
   "metadata": {},
   "outputs": [],
   "source": [
    "# Read file with wavread\n",
    "\n",
    "samplerate, x = wavfile.read('x.wav')\n",
    "\n",
    "# #Normalize to -1 to +1\n",
    "x = x / 32767\n",
    "\n",
    "# Correlation normalize\n",
    "# Pour calculer l'autocorrélation, on fait comme dans le premier exercice\n",
    "N = len(x)\n",
    "\n",
    "corr = np.correlate(x, x, \"full\")\n",
    "normalization = np.arange(N, 0, -1)\n",
    "r_xx = corr[:N][::-1]     # Keep the right coefficients and revert the array\n",
    "r_xx = r_xx / normalization\n",
    "\n",
    "plt.stem(r_xx[:50])\n",
    "plt.xlabel('k')\n",
    "plt.ylabel(' r_xx (k)')"
   ]
  },
  {
   "cell_type": "markdown",
   "metadata": {},
   "source": [
    "**Réponse :**\n",
    "$r_{xx} (k)$ étant un estimateur non-biaisé de la corrélation, l'hypothèse d'ergodicité de la corrélation est vérifiée. \n",
    "\n",
    "Nous pouvons faire l'approximation suivante: $E[r_{xx} (k)] \\approx \\gamma_{xx} (k)$."
   ]
  },
  {
   "cell_type": "markdown",
   "metadata": {},
   "source": [
    "**3. Autocorrelation de $d$**\n",
    "*   On considère la variance $\\sigma_v^2$ du bruit connue : $\\sigma_v^2 =0.01$. \n",
    "    De plus, supposons que l'autocorrélation statistique $\\gamma_{xx}(k)$ du signal bruité est égale à l'autocorrélation $r_{xx}(k)$ calculée à partir d'une réalisation de la partie 1.  \n",
    "    Calculez l'autocorrélation $\\gamma_{dd}(k)$ du signal $d(n)$ et tracez les 50 premières valeurs de $\\gamma_{dd}(k)$.\n"
   ]
  },
  {
   "cell_type": "code",
   "execution_count": null,
   "metadata": {},
   "outputs": [],
   "source": [
    "sigma_v_2 = 0.01\n",
    "\n",
    "\n",
    "gamma_xx = r_xx.copy()\n",
    "# TODO:  \n",
    "gamma_dd = \n",
    "gamma_dd[0] = \n",
    "\n",
    "plt.stem(gamma_dd[:50])\n",
    "plt.xlabel('k')\n",
    "plt.ylabel('gamma_dd(k)')"
   ]
  },
  {
   "cell_type": "markdown",
   "metadata": {},
   "source": [
    "**4. Filtre de Wiener :**\n",
    "*   D'après le cours, les coefficients du filtre RIF de Wiener d'ordre M sont donnés par la relation matricielle suivante:\n",
    "\t\\begin{equation}\n",
    "\t    h = \\Gamma^{-1} \\gamma_{d} \n",
    "\t\\end{equation}\n",
    "avec $\\Gamma \\in \\mathbb{R}^{M \\times M}$ une matrice de Toeplitz telle que $\\Gamma_{kl} = \\gamma_{xx} \\left( l - k \\right)$\t et $\\gamma_{d} \\in \\mathbb{R}^M$ tel que $\\gamma_{d} (k) = \\gamma_{dx} (k)$.\n",
    "\n",
    "\tEn prenant $M = 10$, concevoir sur Python le filtre de Wiener correspondant. Appliquer le filtre sur le signal $x(n)$. \n",
    "\tEcoutez le signal de la sortie $y(n)$ et comparez-le avec le signal original bruité $x(n)$. \n"
   ]
  },
  {
   "cell_type": "code",
   "execution_count": null,
   "metadata": {
    "scrolled": true
   },
   "outputs": [],
   "source": [
    "\n",
    "M = 10\n",
    "\n",
    "r = r_xx.reshape((1, len(r_xx)))\n",
    "gamma_i = np.linalg.pinv(toeplitz(r[:, 0:M]))\n",
    "gd = gamma_dd[0:M]\n",
    "h = gamma_i @ gd.reshape((M, 1))\n",
    "print('Filter Coefficients:',h)\n",
    "\n",
    "# Apply filter to signal x[n]\n",
    "y = np.convolve(h[:, 0], x, 'same')\n",
    "wavfile.write('filtered.wav', samplerate, y)\n",
    "\n"
   ]
  },
  {
   "cell_type": "markdown",
   "metadata": {},
   "source": [
    "\n",
    "    \n",
    "*    Calculez la valeur de l'erreur (quadratique moyenne) minimale à partir de la formule\n",
    "\t$$ \\begin{equation}\n",
    "        MMSE=\\sigma_d^2 - \\gamma_d^{*t} \\, \\Gamma^{-1} \\, \\gamma_d\n",
    "    \\end{equation} $$\n",
    "    du filtre de taille $M=10$. Comparez avec l'erreur quadratique moyenne obtenue en pratique (c'est-à-dire la distance entre le signal filtré et le signal non bruité). Pour cela vous aurez besoin du signal non bruité, qui est donné par le code suivant : "
   ]
  },
  {
   "cell_type": "code",
   "execution_count": null,
   "metadata": {},
   "outputs": [],
   "source": [
    "_, d = wavfile.read('musique.wav')\n",
    "d = d/32767\n",
    "start = 50000\n",
    "d = d[start: start + len(y)]\n",
    "\n",
    "# TODO\n",
    "MMSE_theo = ... - ... @ ... \n",
    "print('Theoretical value of MMSE is '+str(MMSE_theo))\n",
    "\n",
    "# TODO: Error between true signal(y) and filtered output(d)\n",
    "err =\n",
    "print('Exp error: '+str(err))"
   ]
  },
  {
   "cell_type": "markdown",
   "metadata": {},
   "source": [
    "**Réponse :**\n",
    " Les coefficients du filtre de Wiener $h(n)$ de taille $M=10$ sont donnés par l'équation matricielle de l'énoncé.\n",
    "Puisque le signal $x(n)$ est réel, sa fonction d'autocorrélation est paire~: $\\gamma_{xx}(-k) = \\gamma_{xx}(k)$. \n",
    "Cette relation et l'égalité $\\gamma_{dx}(k) = \\gamma_{dd}(k)$ dérivée au point precedent nous permettent de calculer les coefficients du filtre $h(n)$.\n",
    "\n",
    "  - À l'écoute, on observe que le signal a été partiellement débruité, même si le bruit reste très audible.\n",
    "  - L'erreur empirique est bien proche de celle que l'on obtient par le calcul.\n"
   ]
  }
 ],
 "metadata": {
  "kernelspec": {
   "display_name": "Python 3",
   "language": "python",
   "name": "python3"
  },
  "language_info": {
   "codemirror_mode": {
    "name": "ipython",
    "version": 3
   },
   "file_extension": ".py",
   "mimetype": "text/x-python",
   "name": "python",
   "nbconvert_exporter": "python",
   "pygments_lexer": "ipython3",
   "version": "3.8.5"
  }
 },
 "nbformat": 4,
 "nbformat_minor": 2
}
