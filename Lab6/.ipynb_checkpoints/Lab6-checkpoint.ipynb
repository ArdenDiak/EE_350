{
 "cells": [
  {
   "cell_type": "markdown",
   "metadata": {},
   "source": [
    "###### Lab 6 - EE350\n",
    "# Filtres RII\n",
    "\n",
    "À rendre le 14 decembre 2021"
   ]
  },
  {
   "cell_type": "code",
   "execution_count": 2,
   "metadata": {},
   "outputs": [],
   "source": [
    "# Imports\n",
    "from scipy import signal, special\n",
    "import numpy as np\n",
    "from scipy.io import wavfile\n",
    "from scipy.fftpack import fft, fftshift\n",
    "import matplotlib.pyplot as plt\n",
    "import math"
   ]
  },
  {
   "cell_type": "markdown",
   "metadata": {},
   "source": [
    "## Exercice 1: Filtre RII passe-bas\n",
    "\n",
    "On peut voir sur la figure 1 le gabarit d'un filtre numérique passe-bas. On aimerait construire un tel filtre par conversion d'un filtre analogique grâce à la transformée bilinéaire.\n",
    "\n",
    "![picture](characteristics.png)\n",
    "\n",
    "On aimerait que ce filtre respecte les spécifications suivantes:\n",
    "* Oscillation en bande passante (ou oscillation crête-à-crête, reliée au paramètre $\\delta_1$): $\\leq -1$ dB. Le gabarit est donc donné par $1 - \\delta_1 = -1 $ dB.\n",
    "* Fréquence maximale de la bande passante: $\\omega_p = 0.4 \\pi$.\n",
    "* Niveau maximum en bande coupée (relié au paramètre $\\delta_2$) : $ \\leq -22$ dB.\n",
    "* Fréquence minimale de la bande coupée: $\\omega_s = 0.7 \\pi$.\n",
    "* Fréquence d'échantillonnage: $F_e = 3$ kHz.\n",
    "\n",
    "**Conseils:**\n",
    "\n",
    "* Pour déterminer l'ordre d'un filtre analogique, on a besoin des paramètres suivants $\\delta, \\epsilon, \\Omega_p$ et $\\Omega_s$. Puisque la conversion analogique-numérique se fait avec la transformation bilinéaire, vous devrez utiliser la transformation non-linéaire des fréquences pour transformer les spécifications données pour le filtre numérique $\\omega_p$ et $\\omega_s$ en fréquences analogiques $\\Omega_p$ et $\\Omega_s$.\n",
    "* Pour rappel, les relations reliant $\\delta$ et $\\epsilon$ à $\\delta_1$, $\\delta_2$ sont:\n",
    "$$\n",
    "\\begin{align}\n",
    "\\delta_2 = \\frac{1}{\\sqrt{1 + \\delta^2}} \\\\\n",
    "\\frac{1}{\\sqrt{1 + \\epsilon^2}} = 1 - \\delta_1.\n",
    "\\end{align}\n",
    "$$\n",
    "* Pour rappel, l'expression en décibels d'une valeur $\\delta$ normalisée peut être trouvée comme suit:\n",
    "$$\n",
    "    \\delta_{dB} = 20 \\log_{10}(\\delta).\n",
    "$$\n",
    "\n",
    "* Attention: pour ne pas faire d'erreur dans le signe des différentes grandeurs, il est utile de se représenter l'axe des ordonnées en décibels : 1 devient 0, $1- \\delta_1$ devient une valeur négative (-1db), et $\\delta_2$ est une valeur négative bien plus basse (-22db). Notez que $1-\\delta_1$ et $\\delta_2$ sont nécessairement plus petits que 1 et que leur valeur en db sera donc toujours négative. Cependant, certaines fonctions prennent en argument la valeur absolue des décibels (positive, donc). Lisez bien la documentation de chaque fonction.\n"
   ]
  },
  {
   "cell_type": "markdown",
   "metadata": {},
   "source": [
    "**1. Calculer les paramètres $\\delta, \\epsilon, \\Omega_p$ et $\\Omega_s$ nécessaires pour le design des filtres analogiques.**"
   ]
  },
  {
   "cell_type": "markdown",
   "metadata": {},
   "source": [
    "**Réponse :**"
   ]
  },
  {
   "cell_type": "markdown",
   "metadata": {},
   "source": [
    "**2. Déterminez analytiquement l'ordre du filtre numérique Butterworth qui respecte le gabarit donné. Vérifiez le résultat avec la fonction `scipy.signal.buttord`.**"
   ]
  },
  {
   "cell_type": "markdown",
   "metadata": {},
   "source": [
    "**Réponse :** \n"
   ]
  },
  {
   "cell_type": "code",
   "execution_count": 24,
   "metadata": {},
   "outputs": [
    {
     "name": "stdout",
     "output_type": "stream",
     "text": [
      "3\n"
     ]
    }
   ],
   "source": [
    "wp = 0.4 * (2*np.pi)\n",
    "ws = 0.7 * (2*np.pi)\n",
    "\n",
    "d1 = 0.07943; \n",
    "d2 = 0.89125; \n",
    "\n",
    "[N,w]= signal.buttord(wp, ws, d1, d2, fs=(3000*2*np.pi))\n",
    "print(N)"
   ]
  },
  {
   "cell_type": "markdown",
   "metadata": {},
   "source": [
    "**3. Si on utilise un filtre de Chebyshev, quel type de filtre (type I ou type II) est le plus adapté à ces spécifications ? Justifiez.**"
   ]
  },
  {
   "cell_type": "markdown",
   "metadata": {},
   "source": [
    "**Réponse :**\n",
    "Un filtre de Chebyshev de type II est plus adapté à ces spécifications, parce qu'il a des oscillations dans la bande coupée. "
   ]
  },
  {
   "cell_type": "markdown",
   "metadata": {},
   "source": [
    "**4. Déterminez analytiquement l'ordre du filtre numérique Chebyshev (du type déterminé à la question précédente) qui respecte le gabarit donné. Vérifiez les résultats avec les fonctions `scipy.signal.cheb1ord` ou `scipy.signal.cheb2ord`.**"
   ]
  },
  {
   "cell_type": "markdown",
   "metadata": {},
   "source": [
    "**Réponse :**\n"
   ]
  },
  {
   "cell_type": "code",
   "execution_count": 25,
   "metadata": {},
   "outputs": [
    {
     "name": "stdout",
     "output_type": "stream",
     "text": [
      "2\n"
     ]
    }
   ],
   "source": [
    "wp = 0.4 * (2*np.pi)\n",
    "ws = 0.7 * (2*np.pi)\n",
    "\n",
    "d1 = 0.07943; \n",
    "d2 = 0.89125; \n",
    "\n",
    "[N,w]= signal.cheb2ord(wp, ws, d1, d2, fs=(3000*2*np.pi))\n",
    "print(N)"
   ]
  },
  {
   "cell_type": "markdown",
   "metadata": {},
   "source": [
    "**5. Déterminez analytiquement l'ordre du filtre numérique elliptique qui respecte le gabarit donné. (Vous pouvez calculer les intégrales elliptiques en utilisant la fonction `scipy.special.ellipk`). Vérifiez le résultat avec la commande `scipy.signal.ellipord`.**"
   ]
  },
  {
   "cell_type": "markdown",
   "metadata": {},
   "source": [
    "**Réponse :** \n"
   ]
  },
  {
   "cell_type": "code",
   "execution_count": 37,
   "metadata": {},
   "outputs": [
    {
     "name": "stdout",
     "output_type": "stream",
     "text": [
      "K(a) = 0.7997046955413208\n",
      "K(b) = 2.4308309544112774\n",
      "K(c) = 1.629202905275326\n",
      "K(d) = 1.5709634983295222\n",
      "\n",
      "N=2.0 (analytiquement)\n",
      "N=2.0 (avec la commande ellipord())\n"
     ]
    }
   ],
   "source": [
    "\n",
    "# Calculation des intégrales elliptiques\n",
    "\n",
    "a_sq= -9.624169\n",
    "b_sq= 0.862957\n",
    "c_sq= 0.370193 ** 2\n",
    "d_sq= 0.020630 ** 2\n",
    "\n",
    "\n",
    "K_a= special.ellipk(a_sq)\n",
    "K_b= special.ellipk(b_sq)\n",
    "K_c= special.ellipk(c_sq)\n",
    "K_d= special.ellipk(d_sq)\n",
    "\n",
    "print(\"K(a) = {}\\nK(b) = {}\\nK(c) = {}\\nK(d) = {}\\n\".format(K_a, K_b, K_c, K_d))\n",
    "print(\"N={} (analytiquement)\".format(np.ceil((K_c*K_a)/(K_d*K_a))))\n",
    "\n",
    "\n",
    "# Vérification du résultat\n",
    "\n",
    "wp = 0.4 * (2*np.pi)\n",
    "ws = 0.7 * (2*np.pi)\n",
    "\n",
    "d1 = 0.07943; \n",
    "d2 = 0.89125; \n",
    "\n",
    "\n",
    "[N, w]= signal.cheb2ord(wp, ws, d1, d2, fs=(3000*2*np.pi))\n",
    "print(\"N={} (avec la commande ellipord())\".format(np.ceil((K_c*K_a)/(K_d*K_a))))"
   ]
  },
  {
   "cell_type": "markdown",
   "metadata": {},
   "source": [
    "**6. Tracez la réponse en amplitude et en phase pour chacun des filtres ci-dessus, ainsi que le gabarit imposé (vous pouvez utiliser les fonctions `scipy.signal.butter`, `scipy.signal.cheby1` or `scipy.signal.cheby2`, `scipy.signal.ellip` pour créer les filtres et `scipy.signal.freqz` pour observer le comportement fréquentiel). Discutez les résultats et comparez la performance des filtres.**\n",
    "\n",
    "**Attention :** dans le cours, nous avons vu que pour construire des filtres numériques RII, on transforme les spécifications dans le domaine analogique afin de choisir le bon filtre analogique. Ensuite, on convertit ce filtre en filtre numérique par la transformation bilinéaire. \n",
    "Cependant, les fonctions `butter, cheby` et `ellip` font cette conversion automatiquement: on peut donner directement en argument les spécifications du filtre numérique, sans avoir à faire les conversions.\n"
   ]
  },
  {
   "cell_type": "code",
   "execution_count": 89,
   "metadata": {},
   "outputs": [
    {
     "data": {
      "image/png": "[encoded data removed]",
      "text/plain": [
       "<Figure size 576x576 with 2 Axes>"
      ]
     },
     "metadata": {
      "needs_background": "light"
     },
     "output_type": "display_data"
    }
   ],
   "source": [
    "def dB(x):\n",
    "    return 20 * np.log10(abs(x))\n",
    "\n",
    "def get_fft(x, f_e):\n",
    "    x_fft = np.fft.fft(x)\n",
    "    x_fft_freq = np.fft.fftfreq(len(x), 1/f_e)\n",
    "    \n",
    "    x_fft = np.fft.fftshift(x_fft)\n",
    "    x_fft_freq = np.fft.fftshift(x_fft_freq)\n",
    "    return (x_fft, x_fft_freq)\n",
    "    \n",
    "def resp_bode_plt(a_coeffs, b_coeffs, f_e, axs, filter_type):\n",
    "    \n",
    "    #filter freq. and impulse responses\n",
    "\n",
    "    (w, H) = signal.freqz(b_coeffs, a_coeffs, 8192)\n",
    "    H_phase= np.unwrap(np.angle(H))\n",
    "#     H= np.fft.fftshift(H)\n",
    "    \n",
    "\n",
    "#     H_phase= np.fft.fftshift(H_phase)\n",
    "    \n",
    "#     w = np.fft.fftshift(np.fft.fftfreq(len(H), 1/f_e))\n",
    "    \n",
    "#     #Normalize vectors to compare\n",
    "#     H = H / np.linalg.norm(H)\n",
    "#     H_phase = H_phase / np.linalg.norm(H_phase)\n",
    "    \n",
    "    N= 50\n",
    "    M= 50\n",
    "    w *= F_e #convert to rad/s\n",
    "    axs[0].set_xlabel('Frequency [rad/s]')\n",
    "    axs[0].set_ylabel('Amplitude [dB]')\n",
    "    axs[0].set_title('Bode plot de les réponses fréquentielles')\n",
    "\n",
    "    axs[0].plot(w[:N], dB(H[:N]), label=filter_type)\n",
    "    axs[0].legend()\n",
    "\n",
    "    axs[1].set_xlabel('Frequency [rad/s]')\n",
    "    axs[1].set_ylabel('Angle (radians)',)\n",
    "    axs[1].set_title('Phase de la $H(\\omega)$ fenêtrée')\n",
    "    \n",
    "    axs[1].plot(w[:M], H_phase[:M], label=filter_type)\n",
    "    axs[1].legend()\n",
    "\n",
    "\n",
    "#Get filter characteristics\n",
    "wp = 0.4 * (2*np.pi)\n",
    "ws = 0.7 * (2*np.pi)\n",
    "\n",
    "d1 = 0.07943; # d1 <= -1dB  (passband ripple)\n",
    "d2 = 0.89125; # d2 <= -22dB (stopband ripple)\n",
    "F_e= 3000*2*np.pi \n",
    "\n",
    "[N,w_3dB]= signal.buttord(wp, ws, d1, d2, fs=F_e)\n",
    "[b_butter, a_butter] = signal.butter(3, w_3dB, fs=F_e)\n",
    "\n",
    "[b_cheby, a_cheby] = signal.cheby2(2, np.abs(-22.0), ws, fs=F_e)\n",
    "\n",
    "[N, wn]= signal.ellipord(wp, ws, d1, d2, fs=F_e)\n",
    "[b_ellip, a_ellip] = signal.ellip(2, np.abs(-1), np.abs(-22.0), wn, fs=F_e)\n",
    "\n",
    "fig, axs= plt.subplots(2,1, figsize=(8,8))\n",
    "fig.subplots_adjust(hspace = 0.5)\n",
    "\n",
    "#graph filter amplitude and phase responses\n",
    "resp_bode_plt(a_butter, b_butter, F_e, [axs[0],axs[1]], \"Butterworth\")\n",
    "resp_bode_plt(a_cheby, b_cheby, F_e, [axs[0],axs[1]], \"Chebyshev type II\")\n",
    "resp_bode_plt(a_ellip, b_ellip, F_e, [axs[0],axs[1]], \"Elliptic\")\n",
    "axs[0].avline(x=wp,)"
   ]
  },
  {
   "cell_type": "markdown",
   "metadata": {},
   "source": [
    "**Réponse :** \n",
    "\n",
    "Le filtre numérique passe-bas Chebyshev (type II) a la bande de transition la plus courte des trois filtres, mais sa bande passante est aussi la plus courte. Le filtre numérique passe-bas Elliptic a une bande de transition plus longue que celle du filtre Chebyshev, mais, comme le filtre passe-bas Chebyshev, le filtre elliptique n'attenue pas beaucoup les hautes fréquences. Ainsi, le filtre passe-bas numérique de Butterworth attenue les hautes fréquences le plus, mais a une band de transition plus longue que les filtres Chebyshev type II et elliptique. "
   ]
  },
  {
   "cell_type": "markdown",
   "metadata": {},
   "source": [
    "**7. Tracez le diagramme pôles-zéros pour chacun des filtres ci-dessus. Discutez du placement des pôles et des zéros, les diagrammes sont-ils cohérents avec le fait que les filtres sont passe-bas? (Vous pouvez utiliser la fonction `scipy.signal.tf2zpk` pour tracer le diagramme).**"
   ]
  },
  {
   "cell_type": "code",
   "execution_count": 114,
   "metadata": {},
   "outputs": [
    {
     "name": "stdout",
     "output_type": "stream",
     "text": [
      "Chebyshev II (pôles, zéros): [0.99999785-0.00207334j 0.99999785+0.00207334j] [0.99960354-0.00042912j 0.99960354+0.00042912j]\n",
      "Butterworth (pôles, zéros): [-1. -1. -1.] [0.99918452+0.00141015j 0.9983717 +0.j         0.99918452-0.00141015j]\n",
      "Elliptique (pôles, zéros): [0.9999955+0.00300091j 0.9999955-0.00300091j] [0.99956221-0.00078141j 0.99956221+0.00078141j]\n"
     ]
    },
    {
     "data": {
      "image/png": "[encoded data removed]",
      "text/plain": [
       "<Figure size 1152x324 with 3 Axes>"
      ]
     },
     "metadata": {
      "needs_background": "light"
     },
     "output_type": "display_data"
    }
   ],
   "source": [
    "def graphCircle(ax):\n",
    "    x= np.linspace(-1,1,100)\n",
    "    y= np.sqrt(1 - (x ** 2))\n",
    "    \n",
    "    ax.plot(x,y, color='b')\n",
    "    ax.plot(x,-y, color='b')\n",
    "    \n",
    "[N,w_3dB]= signal.buttord(wp, ws, d1, d2, fs=F_e)\n",
    "[z_butter, p_butter, k] = signal.butter(3, w_3dB, fs=F_e, output='zpk')\n",
    "\n",
    "[z_cheby, p_cheby, k] = signal.cheby2(2, np.abs(-22.0), ws, fs=F_e, output='zpk')\n",
    "\n",
    "[N, wn]= signal.ellipord(wp, ws, d1, d2, fs=F_e)\n",
    "[z_ellip, p_ellip, k] = signal.ellip(2, np.abs(-1), np.abs(-22.0), wn, fs=F_e, output='zpk')\n",
    "\n",
    "fig, axs= plt.subplots(1,3, figsize=(16,4.5))\n",
    "fig.subplots_adjust(hspace = 1.4)\n",
    "\n",
    "print(\"Chebyshev II (pôles, zéros):\",z_cheby, p_cheby)\n",
    "axs[0].scatter(z_cheby.real, z_cheby.imag, color='r', marker='.', label='zéros')\n",
    "axs[0].scatter(p_cheby.real, p_cheby.imag, color='r', marker='x', label='pôles')\n",
    "#graphCircle(axs[0])\n",
    "\n",
    "print(\"Butterworth (pôles, zéros):\",z_butter, p_butter)\n",
    "axs[1].scatter(z_butter.real, z_butter.imag, color='r', marker='.', label='zéros')\n",
    "axs[1].scatter(p_butter.real, p_butter.imag, color='r', marker='x', label='pôles')\n",
    "#graphCircle(axs[1])\n",
    "\n",
    "print(\"Elliptique (pôles, zéros):\",z_ellip, p_ellip)\n",
    "axs[2].scatter(z_ellip.real, z_ellip.imag, color='r', marker='.', label='zéros')\n",
    "axs[2].scatter(p_ellip.real, p_ellip.imag, color='r', marker='x', label='pôles')\n",
    "#graphCircle(axs[2])\n",
    "\n",
    "axs[0].set_title('Pôles et Zéros Chebyshev type II')\n",
    "axs[1].set_title('Pôles et Zéros Butterworth')\n",
    "axs[2].set_title('Pôles et Zéros Elliptique')\n",
    "\n",
    "axs[0].legend()\n",
    "axs[1].legend()\n",
    "axs[2].legend()\n",
    "plt.show()"
   ]
  },
  {
   "cell_type": "markdown",
   "metadata": {},
   "source": [
    "**Réponse :** \n",
    "Les diagrames de pôles et zéros indiquent tous que les filtres sont en effet des filtres passe-bas. Lorsque les zéros diminue l'influence de la fréquence à laquelle ils se trouvent, et les pôles augmente l'influence de la fréquence à laquelle ils se trouvent, on observe que les fréquences qui sont accentuées sont des fréquences basses, et les fréquence qui sont diminuées sont des fréquences legèrement plus élevées. "
   ]
  },
  {
   "cell_type": "markdown",
   "metadata": {},
   "source": [
    "\n"
   ]
  },
  {
   "cell_type": "markdown",
   "metadata": {},
   "source": [
    "# Exercice 2 : Conversion de filtres\n",
    "\n",
    "## Exercise 2.1: Filtres passe-bas\n",
    "Les filtres RII sont généralement basés sur des équivalents analogiques (Butterworth, Chebyshev, etc.), qui sont convertis en utilisant la transformation bilinéaire qui transfère les pôles et les zéros du filtre analogique dans le domaine numérique (plans des $z$). \n",
    "\n",
    "La transformation bilinéaire est une transformation du domaine des $s$ au domaine des $z$ qui préserve les caractéristiques de fréquence et est définie par:\n",
    "\n",
    "\\begin{equation}\n",
    "    s=\\frac{2}{T} \\frac{1-z^{-1}}{1+z^{-1}}\n",
    "\\end{equation}"
   ]
  },
  {
   "cell_type": "markdown",
   "metadata": {},
   "source": [
    "Considérez le filtre passe-bas suivant :\n",
    "\\begin{equation} H_a(s)=\\frac{\\Omega_p}{s+\\Omega_p}\n",
    "\\end{equation}\n",
    "    \n",
    "avec la fréquence de coupure *$\\Omega_p=1$ rad/s*. Concevez un filtre passe-bas RII $H_1(z)$ de fréquence de coupure $\\omega_p=\\pi/20$ rad/échantillon à partir de $H_a(s)$ en utilisant la méthode de la transformation bilinéaire.\n",
    "\n",
    "**Méthode :**\n",
    "  - Écrivez $H_1(z)$  sous une forme analytique en fonction de $T$ et déterminez la valeur de $T$ telle que la fréquence de coupure du filtre $H_1(z)$ soit $\\omega_p$.\n",
    "  - Tracez l'amplitude de la réponse fréquentielle $|H_1(w)|$ et le diagramme pôles-zéros du filtre. Interprétez les caractéristiques fréquentielles du filtre en fonction de la localisation de ses pôles et ses zéros."
   ]
  },
  {
   "cell_type": "markdown",
   "metadata": {},
   "source": [
    "**Réponse :**"
   ]
  },
  {
   "cell_type": "code",
   "execution_count": 128,
   "metadata": {},
   "outputs": [
    {
     "data": {
      "image/png": "[encoded data removed]",
      "text/plain": [
       "<Figure size 576x360 with 1 Axes>"
      ]
     },
     "metadata": {
      "needs_background": "light"
     },
     "output_type": "display_data"
    }
   ],
   "source": [
    "T = 0.15740\n",
    "\n",
    "a= [0.15740, 0.15740]\n",
    "b= [2.15740, -1.8426]\n",
    "\n",
    "N_points= 2046 \n",
    "[w,h] = signal.freqz(b, a, N_points)\n",
    "h= np.fft.fftshift(h)\n",
    "\n",
    "fig, ax1 = plt.subplots(1,1,figsize=(8,5))\n",
    "\n",
    "N=2000\n",
    "plt.plot(w,dB(h.real))\n",
    "plt.show()"
   ]
  },
  {
   "cell_type": "markdown",
   "metadata": {},
   "source": [
    "**Analyse :**"
   ]
  },
  {
   "cell_type": "markdown",
   "metadata": {},
   "source": [
    "## Exercice 2.2 : Filtres passe-bande\n",
    "\n",
    "\n",
    "**1.**  En utilisant la relation de transformation bilinéaire, écrivez la forme générale du filtre passe-bande $ H_2(z) $  à partir du filtre passe-bas analogique de l'exercice 2.1 en utilisant la transformation:\n",
    "$$\n",
    "\\begin{equation}\n",
    "        s\\rightarrow \\Omega_p \\frac{s^2 + \\Omega_l \\Omega_u}{s(\\Omega_u - \\Omega_l)}\n",
    " \\end{equation}\n",
    "$$\n",
    "Vous pouvez poser $ \\lambda_1 = \\Omega_u - \\Omega_l$ et $ \\lambda_2 = \\Omega_u\\Omega_l$."
   ]
  },
  {
   "cell_type": "markdown",
   "metadata": {},
   "source": [
    "**Réponse** :"
   ]
  },
  {
   "cell_type": "code",
   "execution_count": null,
   "metadata": {},
   "outputs": [],
   "source": []
  },
  {
   "cell_type": "markdown",
   "metadata": {},
   "source": [
    "## Exercice 2.3 : Application de la conversion de filtre\n"
   ]
  },
  {
   "cell_type": "markdown",
   "metadata": {},
   "source": [
    "Nous allons maintenant créer une série de filtres passe-bande et les appliquer a un signal. \n",
    "\n",
    "La fonction freq_arr() renvoie une liste, X, de fréquences (numériques) de coupure inférieure et supérieure choisies en fonction de la perception des différentes fréquences par l'oreille humaine (également appelée échelle de Mel). La relation est la suivante: $\\omega_l $ = X[i] et $\\omega_u $ = X[i +1] et $ i = 1, 2, .... N_{filt} $. Grâce à cela, vous pouvez concevoir des filtres passe-bande $ N_{filt} $ de différentes bandes passantes.\n"
   ]
  },
  {
   "cell_type": "code",
   "execution_count": null,
   "metadata": {},
   "outputs": [],
   "source": [
    "def freq_arr(fs):\n",
    "    \"\"\" Ne pas modifier cette cellule -- do not change this cell\n",
    "    Cette fonction génère les pulsations de coupure basses et haut pour l'ensemble des filtres\n",
    "    Fréquence de sortie : en Hertz.(Numérique)\"\"\"\n",
    "    nfilt = 10\n",
    "    low_freq_mel = 0\n",
    "    high_freq_mel = (2595 * np.log10(1 + (fs / 2) / 700))  # Convert Hz to Mel\n",
    "    mel_points = np.linspace(low_freq_mel, high_freq_mel, nfilt + 2)  # Equally spaced in Mel scale\n",
    "    hz_points = (700 * (10**(mel_points / 2595) - 1))  # Convert Mel to Hz\n",
    "    return hz_points"
   ]
  },
  {
   "cell_type": "markdown",
   "metadata": {},
   "source": [
    "Complétez le squelette de code avec les étapes suivantes :\n",
    "    \n",
    "**1.** Chargez musique.wav. Vous pouvez utiliser wavfile.read.\n",
    "\n",
    "**2.** Tracez l'amplitude de la réponse en fréquence du fichier musique.wav.\n",
    "\n",
    "**3.** À partir de freq_arr( ), obtenez la liste des fréquences de coupure $\\omega_l, \\omega_u$ en utilisant la fréquence d'échantillonnage de musique.wav\n",
    "\n",
    "**4.** Complétez la fonction convert_discrete_to_continuous() qui doit convertir les valeurs en fréquences analogiques $\\Omega_l, \\Omega_u$  (en rads/sample) en utilisant la relation des fréquences: \n",
    "$$\n",
    "\\begin{equation}\n",
    "\\Omega = \\frac{2}{T}tan(\\frac{\\omega}{2}) \n",
    "\\end{equation}\n",
    "$$\n",
    "\n",
    "**5.** Complétez la fonction construct_digital_bandpass_filter( ), qui utilise les valeurs de $\\Omega_l, \\Omega_u$ pour construire des filtres passe-bande numériques, en utilisant la relation obtenue à la Question 2.2.1.\n",
    "\n",
    "**6.** Complétez le squelette de code qui itère à travers les fréquences générées par freq_arr (). Dans cette boucle :\n",
    " - Utilisez la fonction convert_discrete_to_continuous( ) pour générer des fréquences continues.\n",
    " - Construisez des filtres passe-bande en les utilisant avec la fonction construct_digital_bandpass_filter( ).\n",
    " - Tracez l'amplitude de la réponse en fréquence de chaque filtre (utiliser `signal.freqz`).\n",
    " - Appliquez ces filtres au signal musique.wav (en utilisant `scipy.lfilter`) et visualisez l'amplitude du sprectre du signal filtré. Enregistrez les signaux filtrés dans un fichier .wav à l'aide de la fonction :\n",
    "`wavfile.write('name.wav', int(fs), np.asarray(output, dtype=np.int16))`.\n",
    "\n"
   ]
  },
  {
   "cell_type": "code",
   "execution_count": null,
   "metadata": {},
   "outputs": [],
   "source": [
    "# Template code for Ex2.3.1,  Ex2.3.2 and Ex2.3.3\n",
    "\n",
    "wav_file = 'musique.wav'\n",
    "# TODO (Ex2.3.1): Read the wav file using wavfile.read and put the output in wav_fs, wav_data respectively\n",
    "wav_fs, wav_data =\n",
    "fs = wav_fs\n",
    "T = 1/fs\n",
    "\n",
    "# TODO (Ex2.3.2): Plot the magnitude of the frequency response of the audio file\n",
    "plot(\"Plot here\")\n",
    "\n",
    "# TODO (Ex2.3.3): Generate the freq lower and upper bounds for the band pass using the sampling frequency.\n",
    "filters_arr = freq_arr(#TODO)"
   ]
  },
  {
   "cell_type": "code",
   "execution_count": null,
   "metadata": {},
   "outputs": [],
   "source": [
    "# Template code for Ex2.3.4\n",
    "# TODO:\n",
    "# Convert from Discrete to Continuous Frequency using the bilinear transform relation\n",
    "def convert_discrete_to_continuous(f_discrete_l, f_discrete_u, T):\n",
    "    # Convert to rad/sample from Hz\n",
    "    omega_discrete_l = \n",
    "    omega_discrete_u = \n",
    "\n",
    "    # Convert from Discrete to Continuous Frequency using bilinear transform relation\n",
    "    omega_cont_l = \n",
    "    omega_cont_u = \n",
    "    \n",
    "    return omega_cont_l, omega_cont_u"
   ]
  },
  {
   "cell_type": "code",
   "execution_count": null,
   "metadata": {},
   "outputs": [],
   "source": [
    "# Template code for Ex2.3.5\n",
    "# TODO:\n",
    "# Construct the digital band-pass filter defined in Ex2.2.1 \n",
    "def construct_digital_bandpass_filter(omega_cont_l, omega_cont_u, T):\n",
    "    # Define difference and product of pass band frequencies\n",
    "    lambda_1 = \n",
    "    lambda_2 = \n",
    "\n",
    "    # Define the coefficients of the digital filter\n",
    "    a_coeffs = \n",
    "    b_coeffs = \n",
    "    \n",
    "    return a_coeffs, b_coeffs"
   ]
  },
  {
   "cell_type": "code",
   "execution_count": null,
   "metadata": {},
   "outputs": [],
   "source": [
    "# Code Ex.2.3.6\n",
    "fig, ax = plt.subplots(2, 1, figsize=(14, 14))\n",
    "ax[0].set_title('Réponse en fréquence de passe band')\n",
    "ax[1].set_title('Réponse en fréquence de musique filtré')\n",
    "legends = []\n",
    "\n",
    "for i in range(0, len(filters_arr)-1):\n",
    "    # Load the Digital frequency(Hz) as provided by the freq_arr() function\n",
    "    f_discrete_l = filters_arr[i]\n",
    "    f_discrete_u = filters_arr[i+1]\n",
    "    \n",
    "    # TODO: Ex2.3.6, 1st bullet: Convert from Discrete to Continuous Frequency using the bilinear transform relation\n",
    "    omega_cont_l, omega_cont_u = \n",
    "    \n",
    "    # TODO: Ex2.3.6 2nd bullet: Construct the digital band-pass filter defined in Ex2.2.1 \n",
    "    a_coeffs, b_coeffs = \n",
    "    \n",
    "    # TODO: Ex2.3.6 3rd bulltet : Plot the magnitude of the frequency response of the digital band-pass filter\n",
    "    ax[0].plot(\"TODO: Plot here the magnitude\")\n",
    "    \n",
    "    # Ex2.3.6 4th bulltet : Filter the .wav using lfilter\n",
    "    y_band_wav = lfilter(b_coeffs,a_coeffs, wav_data)\n",
    "    wavfile.write('band_pass_'+str(i)+'.wav', int(wav_fs), np.asarray(y_band_wav, dtype=np.int16)) \n",
    "    \n",
    "    # TODO: Ex2.3.6: Plot the magnitude of the frequency response of the filtered .wav\n",
    "    ax[1].plot(\"TODO: Plot here the magnitude\")\n",
    "    legends.append('filter_num =%d' % (i+1))\n",
    "\n",
    "ax[0].grid('on')\n",
    "ax[0].set_ylabel('Amplitude du filtre')\n",
    "ax[0].set_xlabel('Fréquence [Hz]')\n",
    "ax[0].legend(legends)\n",
    "\n",
    "ax[1].grid('on')\n",
    "ax[1].set_ylabel('Amplitude du fichier musique')\n",
    "ax[1].set_xlabel('Fréquence [Hz]')\n",
    "ax[1].legend(legends)\n",
    "\n",
    "plt.tight_layout()\n",
    "plt.show()"
   ]
  },
  {
   "cell_type": "markdown",
   "metadata": {},
   "source": [
    "**7.**  Regardez l'amplitude de chaque son filtré, écoutez ces sons et comparez-les aux signaux d'origine. Que peut-on dire sur notre perception des sons dans chaque bande de fréquence?"
   ]
  },
  {
   "cell_type": "markdown",
   "metadata": {},
   "source": [
    "**Réponse :**"
   ]
  },
  {
   "cell_type": "code",
   "execution_count": null,
   "metadata": {},
   "outputs": [],
   "source": []
  }
 ],
 "metadata": {
  "kernelspec": {
   "display_name": "Python 3 (ipykernel)",
   "language": "python",
   "name": "python3"
  },
  "language_info": {
   "codemirror_mode": {
    "name": "ipython",
    "version": 3
   },
   "file_extension": ".py",
   "mimetype": "text/x-python",
   "name": "python",
   "nbconvert_exporter": "python",
   "pygments_lexer": "ipython3",
   "version": "3.9.7"
  }
 },
 "nbformat": 4,
 "nbformat_minor": 2
}
