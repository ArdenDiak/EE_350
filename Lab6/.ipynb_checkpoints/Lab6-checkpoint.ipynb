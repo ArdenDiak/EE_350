{
 "cells": [
  {
   "cell_type": "markdown",
   "metadata": {},
   "source": [
    "###### Lab 6 - EE350\n",
    "# Filtres RII\n",
    "\n",
    "À rendre le 14 decembre 2021"
   ]
  },
  {
   "cell_type": "code",
   "execution_count": null,
   "metadata": {},
   "outputs": [],
   "source": [
    "# Requirements\n",
    "! pip install scipy\n",
    "! pip install numpy\n",
    "! pip install matplotlib"
   ]
  },
  {
   "cell_type": "code",
   "execution_count": null,
   "metadata": {},
   "outputs": [],
   "source": [
    "# Imports\n",
    "from scipy import signal, special\n",
    "import numpy as np\n",
    "from scipy.io import wavfile\n",
    "from scipy.fftpack import fft, fftshift\n",
    "import matplotlib.pyplot as plt\n",
    "import math"
   ]
  },
  {
   "cell_type": "markdown",
   "metadata": {},
   "source": [
    "## Exercice 1: Filtre RII passe-bas\n",
    "\n",
    "On peut voir sur la figure 1 le gabarit d'un filtre numérique passe-bas. On aimerait construire un tel filtre par conversion d'un filtre analogique grâce à la transformée bilinéaire.\n",
    "\n",
    "![picture](characteristics.png)\n",
    "\n",
    "On aimerait que ce filtre respecte les spécifications suivantes:\n",
    "* Oscillation en bande passante (ou oscillation crête-à-crête, reliée au paramètre $\\delta_1$): $\\leq -1$ dB. Le gabarit est donc donné par $1 - \\delta_1 = -1 $ dB.\n",
    "* Fréquence maximale de la bande passante: $\\omega_p = 0.4 \\pi$.\n",
    "* Niveau maximum en bande coupée (relié au paramètre $\\delta_2$) : $ \\leq -22$ dB.\n",
    "* Fréquence minimale de la bande coupée: $\\omega_s = 0.7 \\pi$.\n",
    "* Fréquence d'échantillonnage: $F_e = 3$ kHz.\n",
    "\n",
    "**Conseils:**\n",
    "\n",
    "* Pour déterminer l'ordre d'un filtre analogique, on a besoin des paramètres suivants $\\delta, \\epsilon, \\Omega_p$ et $\\Omega_s$. Puisque la conversion analogique-numérique se fait avec la transformation bilinéaire, vous devrez utiliser la transformation non-linéaire des fréquences pour transformer les spécifications données pour le filtre numérique $\\omega_p$ et $\\omega_s$ en fréquences analogiques $\\Omega_p$ et $\\Omega_s$.\n",
    "* Pour rappel, les relations reliant $\\delta$ et $\\epsilon$ à $\\delta_1$, $\\delta_2$ sont:\n",
    "$$\n",
    "\\begin{align}\n",
    "\\delta_2 = \\frac{1}{\\sqrt{1 + \\delta^2}} \\\\\n",
    "\\frac{1}{\\sqrt{1 + \\epsilon^2}} = 1 - \\delta_1.\n",
    "\\end{align}\n",
    "$$\n",
    "* Pour rappel, l'expression en décibels d'une valeur $\\delta$ normalisée peut être trouvée comme suit:\n",
    "$$\n",
    "    \\delta_{dB} = 20 \\log_{10}(\\delta).\n",
    "$$\n",
    "\n",
    "* Attention: pour ne pas faire d'erreur dans le signe des différentes grandeurs, il est utile de se représenter l'axe des ordonnées en décibels : 1 devient 0, $1- \\delta_1$ devient une valeur négative (-1db), et $\\delta_2$ est une valeur négative bien plus basse (-22db). Notez que $1-\\delta_1$ et $\\delta_2$ sont nécessairement plus petits que 1 et que leur valeur en db sera donc toujours négative. Cependant, certaines fonctions prennent en argument la valeur absolue des décibels (positive, donc). Lisez bien la documentation de chaque fonction.\n"
   ]
  },
  {
   "cell_type": "markdown",
   "metadata": {},
   "source": [
    "**1. Calculer les paramètres $\\delta, \\epsilon, \\Omega_p$ et $\\Omega_s$ nécessaires pour le design des filtres analogiques.**"
   ]
  },
  {
   "cell_type": "markdown",
   "metadata": {},
   "source": [
    "**Réponse :**"
   ]
  },
  {
   "cell_type": "markdown",
   "metadata": {},
   "source": [
    "**2. Déterminez analytiquement l'ordre du filtre numérique Butterworth qui respecte le gabarit donné. Vérifiez le résultat avec la fonction `scipy.signal.buttord`.**"
   ]
  },
  {
   "cell_type": "markdown",
   "metadata": {},
   "source": [
    "**Réponse :** \n"
   ]
  },
  {
   "cell_type": "code",
   "execution_count": null,
   "metadata": {},
   "outputs": [],
   "source": [
    "# Code"
   ]
  },
  {
   "cell_type": "markdown",
   "metadata": {},
   "source": [
    "**3. Si on utilise un filtre de Chebyshev, quel type de filtre (type I ou type II) est le plus adapté à ces spécifications ? Justifiez.**"
   ]
  },
  {
   "cell_type": "markdown",
   "metadata": {},
   "source": [
    "**Réponse :**\n"
   ]
  },
  {
   "cell_type": "markdown",
   "metadata": {},
   "source": [
    "**4. Déterminez analytiquement l'ordre du filtre numérique Chebyshev (du type déterminé à la question précédente) qui respecte le gabarit donné. Vérifiez les résultats avec les fonctions `scipy.signal.cheb1ord` ou `scipy.signal.cheb2ord`.**"
   ]
  },
  {
   "cell_type": "markdown",
   "metadata": {},
   "source": [
    "**Réponse :**\n"
   ]
  },
  {
   "cell_type": "code",
   "execution_count": null,
   "metadata": {},
   "outputs": [],
   "source": [
    "# Code"
   ]
  },
  {
   "cell_type": "markdown",
   "metadata": {},
   "source": [
    "**5. Déterminez analytiquement l'ordre du filtre numérique elliptique qui respecte le gabarit donné. (Vous pouvez calculer les intégrales elliptiques en utilisant la fonction `scipy.special.ellipk`). Vérifiez le résultat avec la commande `scipy.signal.ellipord`.**"
   ]
  },
  {
   "cell_type": "markdown",
   "metadata": {},
   "source": [
    "**Réponse :** \n"
   ]
  },
  {
   "cell_type": "code",
   "execution_count": null,
   "metadata": {},
   "outputs": [],
   "source": [
    "# Code"
   ]
  },
  {
   "cell_type": "markdown",
   "metadata": {},
   "source": [
    "**6. Tracez la réponse en amplitude et en phase pour chacun des filtres ci-dessus, ainsi que le gabarit imposé (vous pouvez utiliser les fonctions `scipy.signal.butter`, `scipy.signal.cheby1` or `scipy.signal.cheby2`, `scipy.signal.ellip` pour créer les filtres et `scipy.signal.freqz` pour observer le comportement fréquentiel). Discutez les résultats et comparez la performance des filtres.**\n",
    "\n",
    "**Attention :** dans le cours, nous avons vu que pour construire des filtres numériques RII, on transforme les spécifications dans le domaine analogique afin de choisir le bon filtre analogique. Ensuite, on convertit ce filtre en filtre numérique par la transformation bilinéaire. \n",
    "Cependant, les fonctions `butter, cheby` et `ellip` font cette conversion automatiquement: on peut donner directement en argument les spécifications du filtre numérique, sans avoir à faire les conversions.\n"
   ]
  },
  {
   "cell_type": "code",
   "execution_count": null,
   "metadata": {},
   "outputs": [],
   "source": [
    "# Code"
   ]
  },
  {
   "cell_type": "markdown",
   "metadata": {},
   "source": [
    "**Réponse :** "
   ]
  },
  {
   "cell_type": "markdown",
   "metadata": {},
   "source": [
    "**7. Tracez le diagramme pôles-zéros pour chacun des filtres ci-dessus. Discutez du placement des pôles et des zéros, les diagrammes sont-ils cohérents avec le fait que les filtres sont passe-bas? (Vous pouvez utiliser la fonction `scipy.signal.tf2zpk` pour tracer le diagramme).**"
   ]
  },
  {
   "cell_type": "code",
   "execution_count": null,
   "metadata": {},
   "outputs": [],
   "source": [
    "# Code"
   ]
  },
  {
   "cell_type": "markdown",
   "metadata": {},
   "source": [
    "**Réponse :** "
   ]
  },
  {
   "cell_type": "markdown",
   "metadata": {},
   "source": [
    "\n"
   ]
  },
  {
   "cell_type": "markdown",
   "metadata": {},
   "source": [
    "# Exercice 2 : Conversion de filtres\n",
    "\n",
    "## Exercise 2.1: Filtres passe-bas\n",
    "Les filtres RII sont généralement basés sur des équivalents analogiques (Butterworth, Chebyshev, etc.), que sont convertis en utilisant la transformation bilinéaire qui transfère les pôles et les zéros du filtre analogique dans le domaine numérique (plans des $z$). \n",
    "\n",
    "La transformation bilinéaire est une transformation du domaine des $s$ au domaine des $z$ qui préserve les caractéristiques de fréquence et est définie par:\n",
    "\n",
    "\\begin{equation}\n",
    "    s=\\frac{2}{T} \\frac{1-z^{-1}}{1+z^{-1}}\n",
    "\\end{equation}"
   ]
  },
  {
   "cell_type": "markdown",
   "metadata": {},
   "source": [
    "Considérez le filtre passe-bas suivant :\n",
    "\\begin{equation} H_a(s)=\\frac{\\Omega_p}{s+\\Omega_p}\n",
    "\\end{equation}\n",
    "    \n",
    "avec la fréquence de coupure *$\\Omega_p=1$ rad/s*. Concevez un filtre passe-bas RII $H_1(z)$ de fréquence de coupure $\\omega_p=\\pi/20$ rad/échantillon à partir de $H_a(s)$ en utilisant la méthode de la transformation bilinéaire.\n",
    "\n",
    "**Méthode :**\n",
    "  - Écrivez $H_1(z)$  sous une forme analytique en fonction de $T$ et déterminez la valeur de $T$ telle que la fréquence de coupure du filtre $H_1(z)$ soit $\\omega_p$.\n",
    "  - Tracez l'amplitude de la réponse fréquentielle $|H_1(w)|$ et le diagramme pôles-zéros du filtre. Interprétez les caractéristiques fréquentielles du filtre en fonction de la localisation de ses pôles et ses zéros."
   ]
  },
  {
   "cell_type": "markdown",
   "metadata": {},
   "source": [
    "**Réponse :**"
   ]
  },
  {
   "cell_type": "code",
   "execution_count": null,
   "metadata": {},
   "outputs": [],
   "source": [
    "# Code"
   ]
  },
  {
   "cell_type": "markdown",
   "metadata": {},
   "source": [
    "**Analyse :**"
   ]
  },
  {
   "cell_type": "markdown",
   "metadata": {},
   "source": [
    "## Exercice 2.2 : Filtres passe-bande\n",
    "\n",
    "\n",
    "**1.**  En utilisant la relation de transformation bilinéaire, obtenir la forme générale du filtre passe-bande $ H_2(z) $  à partir du filtre passe-bas analogique de l'exercice 2.1 en utilisant la transformation:\n",
    "$$\n",
    "\\begin{equation}\n",
    "        s\\rightarrow \\Omega_p \\frac{s^2 + \\Omega_l \\Omega_u}{s(\\Omega_u - \\Omega_l)}\n",
    " \\end{equation}\n",
    "$$\n",
    "Vous pouvez poser $ \\lambda_1 = \\Omega_u - \\Omega_l$ et $ \\lambda_2 = \\Omega_u\\Omega_l$."
   ]
  },
  {
   "cell_type": "markdown",
   "metadata": {},
   "source": [
    "**Réponse** :"
   ]
  },
  {
   "cell_type": "code",
   "execution_count": null,
   "metadata": {},
   "outputs": [],
   "source": []
  },
  {
   "cell_type": "markdown",
   "metadata": {},
   "source": [
    "## Exercice 2.3 : Application de la conversion de filtre\n"
   ]
  },
  {
   "cell_type": "markdown",
   "metadata": {},
   "source": [
    "Nous allons maintenant créer une série de filtres passe-bande et les appliquer au signal. \n",
    "\n",
    "La fonction freq_arr() renvoie une liste, X, de fréquences (numériques) de coupure inférieure et supérieure choisies en fonction de la perception des différentes fréquences par l'oreille humaine (également appelée échelle de Mel). La relation est la suivante: $\\omega_l $ = X[i] et $\\omega_u $ = X[i +1] et $ i = 1, 2, .... N_{filt} $. Grâce à cela, vous pouvez concevoir des filtres passe-bande $ N_{filt} $ de différentes bandes passantes.\n"
   ]
  },
  {
   "cell_type": "code",
   "execution_count": null,
   "metadata": {},
   "outputs": [],
   "source": [
    "def freq_arr(fs):\n",
    "    \"\"\" Ne pas modifier cette cellule -- do not change this cell\n",
    "    Cette fonction génère les pulsations de coupure basses et haut pour l'ensemble des filtres\n",
    "    Fréquence de sortie : en Hertz.(Numérique)\"\"\"\n",
    "    nfilt = 10\n",
    "    low_freq_mel = 0\n",
    "    high_freq_mel = (2595 * np.log10(1 + (fs / 2) / 700))  # Convert Hz to Mel\n",
    "    mel_points = np.linspace(low_freq_mel, high_freq_mel, nfilt + 2)  # Equally spaced in Mel scale\n",
    "    hz_points = (700 * (10**(mel_points / 2595) - 1))  # Convert Mel to Hz\n",
    "    return hz_points"
   ]
  },
  {
   "cell_type": "markdown",
   "metadata": {},
   "source": [
    "Complétez le squelette de code avec les étapes suivantes :\n",
    "    \n",
    "**1.** Chargez musique.wav. Vous pouvez utiliser wavfile.read.\n",
    "\n",
    "**2.** Tracez l'amplitude de la réponse en fréquence du fichier musique.wav.\n",
    "\n",
    "**3.** À partir de freq_arr( ), obtenez la liste des fréquences de coupure $\\omega_l, \\omega_u$ en utilisant la fréquence d'échantillonnage de musique.wav\n",
    "\n",
    "**4.** Complétez la fonction convert_discrete_to_continuous() qui doit convertir les valeurs en fréquences analogiques $\\Omega_l, \\Omega_u$  (en rads/sample) en utilisant la relation des fréquences: \n",
    "$$\n",
    "\\begin{equation}\n",
    "\\Omega = \\frac{2}{T}tan(\\frac{\\omega}{2}) \n",
    "\\end{equation}\n",
    "$$\n",
    "\n",
    "**5.** Complétez la fonction construct_digital_bandpass_filter( ), qui utilise les valeurs de $\\Omega_l, \\Omega_u$ pour construire des filtres passe-bande numériques, en utilisant la relation obtenue à la Question 2.2.1.\n",
    "\n",
    "**6.** Complétez le squelette de code qui itère à travers les fréquences générées par freq_arr (). Dans cette boucle :\n",
    " - Utilisez la fonction convert_discrete_to_continuous( ) pour générer des fréquences continues.\n",
    " - Construisez des filtres passe-bande en les utilisant avec la fonction construct_digital_bandpass_filter( ).\n",
    " - Tracez l'amplitude de la réponse en fréquence de chaque filtre (utiliser `signal.freqz`).\n",
    " - Appliquez ces filtres au signal musique.wav (en utilisant `scipy.lfilter`) et visualisez l'amplitude du sprectre du signal filtré. Enregistrez les signaux filtrés dans un fichier .wav à l'aide de la fonction :\n",
    "`wavfile.write('name.wav', int(fs), np.asarray(output, dtype=np.int16))`.\n",
    "\n"
   ]
  },
  {
   "cell_type": "code",
   "execution_count": null,
   "metadata": {},
   "outputs": [],
   "source": [
    "# Template code for Ex2.3.1,  Ex2.3.2 and Ex2.3.3\n",
    "\n",
    "wav_file = 'musique.wav'\n",
    "# TODO (Ex2.3.1): Read the wav file using wavfile.read and put the output in wav_fs, wav_data respectively\n",
    "wav_fs, wav_data =\n",
    "fs = wav_fs\n",
    "T = 1/fs\n",
    "\n",
    "# TODO (Ex2.3.2): Plot the magnitude of the frequency response of the audio file\n",
    "plot(\"Plot here\")\n",
    "\n",
    "# TODO (Ex2.3.3): Generate the freq lower and upper bounds for the band pass using the sampling frequency.\n",
    "filters_arr = freq_arr(#TODO)"
   ]
  },
  {
   "cell_type": "code",
   "execution_count": null,
   "metadata": {},
   "outputs": [],
   "source": [
    "# Template code for Ex2.3.4\n",
    "# TODO:\n",
    "# Convert from Discrete to Continuous Frequency using the bilinear transform relation\n",
    "def convert_discrete_to_continuous(f_discrete_l, f_discrete_u, T):\n",
    "    # Convert to rad/sample from Hz\n",
    "    omega_discrete_l = \n",
    "    omega_discrete_u = \n",
    "\n",
    "    # Convert from Discrete to Continuous Frequency using bilinear transform relation\n",
    "    omega_cont_l = \n",
    "    omega_cont_u = \n",
    "    \n",
    "    return omega_cont_l, omega_cont_u"
   ]
  },
  {
   "cell_type": "code",
   "execution_count": null,
   "metadata": {},
   "outputs": [],
   "source": [
    "# Template code for Ex2.3.5\n",
    "# TODO:\n",
    "# Construct the digital band-pass filter defined in Ex2.2.1 \n",
    "def construct_digital_bandpass_filter(omega_cont_l, omega_cont_u, T):\n",
    "    # Define difference and product of pass band frequencies\n",
    "    lambda_1 = \n",
    "    lambda_2 = \n",
    "\n",
    "    # Define the coefficients of the digital filter\n",
    "    a_coeffs = \n",
    "    b_coeffs = \n",
    "    \n",
    "    return a_coeffs, b_coeffs"
   ]
  },
  {
   "cell_type": "code",
   "execution_count": null,
   "metadata": {},
   "outputs": [],
   "source": [
    "# Code Ex.2.3.6\n",
    "fig, ax = plt.subplots(2, 1, figsize=(14, 14))\n",
    "ax[0].set_title('Réponse en fréquence de passe band')\n",
    "ax[1].set_title('Réponse en fréquence de musique filtré')\n",
    "legends = []\n",
    "\n",
    "for i in range(0, len(filters_arr)-1):\n",
    "    # Load the Digital frequency(Hz) as provided by the freq_arr() function\n",
    "    f_discrete_l = filters_arr[i]\n",
    "    f_discrete_u = filters_arr[i+1]\n",
    "    \n",
    "    # TODO: Ex2.3.6, 1st bullet: Convert from Discrete to Continuous Frequency using the bilinear transform relation\n",
    "    omega_cont_l, omega_cont_u = \n",
    "    \n",
    "    # TODO: Ex2.3.6 2nd bullet: Construct the digital band-pass filter defined in Ex2.2.1 \n",
    "    a_coeffs, b_coeffs = \n",
    "    \n",
    "    # TODO: Ex2.3.6 3rd bulltet : Plot the magnitude of the frequency response of the digital band-pass filter\n",
    "    ax[0].plot(\"TODO: Plot here the magnitude\")\n",
    "    \n",
    "    # Ex2.3.6 4th bulltet : Filter the .wav using lfilter\n",
    "    y_band_wav = lfilter(b_coeffs,a_coeffs, wav_data)\n",
    "    wavfile.write('band_pass_'+str(i)+'.wav', int(wav_fs), np.asarray(y_band_wav, dtype=np.int16)) \n",
    "    \n",
    "    # TODO: Ex2.3.6: Plot the magnitude of the frequency response of the filtered .wav\n",
    "    ax[1].plot(\"TODO: Plot here the magnitude\")\n",
    "    legends.append('filter_num =%d' % (i+1))\n",
    "\n",
    "ax[0].grid('on')\n",
    "ax[0].set_ylabel('Amplitude du filtre')\n",
    "ax[0].set_xlabel('Fréquence [Hz]')\n",
    "ax[0].legend(legends)\n",
    "\n",
    "ax[1].grid('on')\n",
    "ax[1].set_ylabel('Amplitude du fichier musique')\n",
    "ax[1].set_xlabel('Fréquence [Hz]')\n",
    "ax[1].legend(legends)\n",
    "\n",
    "plt.tight_layout()\n",
    "plt.show()"
   ]
  },
  {
   "cell_type": "markdown",
   "metadata": {},
   "source": [
    "**7.**  Regardez l'amplitude de chaque son filtré, écoutez-les et comparez-les aux signaux d'origine. Que peut-on dire sur notre perception des sons dans chaque bande de fréquence?"
   ]
  },
  {
   "cell_type": "markdown",
   "metadata": {},
   "source": [
    "**Réponse :**"
   ]
  },
  {
   "cell_type": "code",
   "execution_count": null,
   "metadata": {},
   "outputs": [],
   "source": []
  }
 ],
 "metadata": {
  "kernelspec": {
   "display_name": "Python 3 (ipykernel)",
   "language": "python",
   "name": "python3"
  },
  "language_info": {
   "codemirror_mode": {
    "name": "ipython",
    "version": 3
   },
   "file_extension": ".py",
   "mimetype": "text/x-python",
   "name": "python",
   "nbconvert_exporter": "python",
   "pygments_lexer": "ipython3",
   "version": "3.8.8"
  }
 },
 "nbformat": 4,
 "nbformat_minor": 2
}
