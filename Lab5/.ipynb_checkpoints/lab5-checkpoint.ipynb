{
 "cells": [
  {
   "cell_type": "markdown",
   "metadata": {},
   "source": [
    "# Lab 5 - EE350\n",
    "# Filtres RIF\n",
    "\n",
    "À rendre le 8 décembre 2021"
   ]
  },
  {
   "cell_type": "code",
   "execution_count": null,
   "metadata": {},
   "outputs": [],
   "source": [
    "# Imports\n",
    "from scipy import signal\n",
    "import numpy as np\n",
    "from scipy.io import wavfile\n",
    "import matplotlib.pyplot as plt"
   ]
  },
  {
   "cell_type": "markdown",
   "metadata": {},
   "source": [
    "## Exercice 1: Synthèse d'un filtre dérivateur\n",
    "\n",
    "L'objectif de cet exercice est de créer un filtre estimant la dérivée seconde d'un signal. Considérez pour l'exercice $f_e=10 Hz$.\n",
    "\n",
    "### 1.\n",
    "\n",
    "On peut d'abord essayer de définir un tel filtre grâce à l'estimation aux différences finies de la dérivée seconde:\n",
    "\\begin{equation}\n",
    "    h[n] = f_e^2\\left(\\delta[n] - 2\\delta[n-1] + \\delta[n-2]\\right),\n",
    "\\end{equation}\n",
    "où $f_e$ est la fréquence d'échantillonage.\n",
    "\n",
    "* Déterminez analytiquement la réponse en fréquence $H(\\omega)$ du filtre défini par $h$.\n",
    "* Justifiez si ce filtre a une phase linéaire ou non.\n",
    "* Affichez $H(\\omega)$ sur un diagramme de Bode."
   ]
  },
  {
   "cell_type": "markdown",
   "metadata": {},
   "source": [
    "**Réponse :**\n"
   ]
  },
  {
   "cell_type": "markdown",
   "metadata": {},
   "source": [
    "### 2. \n",
    "On considère les signaux $x_1(t) = \\sin(1.5 * 2 \\pi t)$ et $x_2(t) = \\cos(4 * 2 \\pi t)$.\n",
    "* Calculez analytiquement leurs dérivées $y_1(t)$ et $y_2(t)$.\n",
    "\n",
    "* Discrétisez les signaux $x_1$ et $x_2$ et prenez leurs $64$ premiers échantillons. Calculez ensuite le résultat de l'application du filtre $h$ aux deux signaux échantillonés pour trouver des estimations de leurs dérivées secondes (*vous pouvez vous aider de la fonction np.convolve, attention aux conditions de bords*). Affichez les estimations des dérivées secondes de même que les versions échantillonées des signaux $y_1(t)$ et $y_2(t)$. \n",
    "\n",
    "* Est-ce que le filtre procure une bonne estimation (en amplitude et en phase) des dérivées de $x_1$ et $x_2$ ? Justifiez."
   ]
  },
  {
   "cell_type": "markdown",
   "metadata": {},
   "source": [
    "**Réponse :** "
   ]
  },
  {
   "cell_type": "markdown",
   "metadata": {},
   "source": [
    "### 3. \n",
    "\n",
    "La dérivée seconde continue est une opération linéaire et invariante dans le temps, on peut donc calculer sa fonction de transfer $D(\\omega)$.\n",
    "* Donnez $D(\\omega)$.\n",
    "* Calculez analytiquement, en utilisant la synthèse par fenêtrage, la réponse impulsionelle théorique (i.e., de longueur infinie) $h_d[n]$."
   ]
  },
  {
   "cell_type": "markdown",
   "metadata": {},
   "source": [
    "**Réponse :** "
   ]
  },
  {
   "cell_type": "markdown",
   "metadata": {},
   "source": [
    "### 4.\n",
    "\n",
    "Afin d'être implémenté, le signal $h_d[n]$ doit être fenêtré.\n",
    "* Considérez d'abord une fenêtre rectangulaire de taille $5$, appliquez-la à $h_d[n]$ (faites attention au décalage et à la fréquence d'échantillonage). Appliquez le filtre résultant aux signaux $x_1$, $x_2$ et affichez les resultats de même que  les versions échantillonées de $y_1$ et $y_2$\n",
    "* Répétez la même opération avec une fenêtre de taille $11$\n",
    "* Répétez la même opération avec des fenêtres de Hanning de taille $5$ et $11$.\n",
    "* Est-ce que les résultats sont de bonnes estimations (en amplitude et en phase) des dérivées secondes de $x_1$ et $x_2$ (i.e., les versions échantillonées de $y_1$ et $y_2$)? Que se passe-t-il au début du signal ? Justifiez."
   ]
  },
  {
   "cell_type": "markdown",
   "metadata": {},
   "source": [
    "**Réponse :** "
   ]
  },
  {
   "cell_type": "markdown",
   "metadata": {},
   "source": [
    "### 5.\n",
    "\n",
    "Affichez sur un même diagramme de Bode les réponses en amplitude et en phase de la réponse impulsionelle $h[n]$ et des différents versions fenêtrée de la réponse impulsionelle $h_d[n]$. Affichez aussi l'amplitude d'une version idéalisée du filtre (i.e., l'amplitude de $D(\\omega)$).\n",
    "\n",
    "* Décrivez les principales différences entre les filtres.\n",
    "* D'après vous, quel filtre donne la meilleure estimation de la dérivée seconde d'un signal ? Cette réponse dépend-elle du contenu fréquenciel du signal ?"
   ]
  },
  {
   "cell_type": "markdown",
   "metadata": {},
   "source": [
    "**Réponse :** "
   ]
  },
  {
   "cell_type": "markdown",
   "metadata": {},
   "source": [
    "## Exercice 2 : Diagramme pôles-zéros"
   ]
  },
  {
   "cell_type": "markdown",
   "metadata": {},
   "source": [
    "### 1. \n",
    "\n",
    "Pour chacun des filtres causals représentés par les diagrammes ci-dessous, déterminez et justifiez les points suivants:\n",
    "* S’il s'agit d’un filtre à réponse impulsionelle finie (RIF) ou infinie (RII).\n",
    "* S’il est stable ou instable.\n",
    "* Si c’est un système à phase linéaire.\n",
    "* Dans le cas d’un filtre à phase non linéaire, déterminez pour chaque cas si il est possible d'ajouter des zéros pour pour rendre le filtre à phase linéaire et si oui, lequels. \n",
    "\n",
    "*PS: La précision de la position des pôles et zéros est arrondie à deux chiffres après la virgule.*"
   ]
  },
  {
   "cell_type": "markdown",
   "metadata": {},
   "source": [
    "### a)\n",
    "![picture](pz_1.png)\n",
    "### b)\n",
    "![picture](pz_2.png)\n",
    "### c)\n",
    "![picture](pz_3.png)\n",
    "### d)\n",
    "![picture](pz_4.png)"
   ]
  },
  {
   "cell_type": "markdown",
   "metadata": {},
   "source": [
    "**Réponse :**"
   ]
  },
  {
   "cell_type": "markdown",
   "metadata": {},
   "source": [
    "### 2\n",
    "\n",
    "Parmi les quatres filtres définis ci-dessus, choisissez un filtre RIF à phase non-linéaire. \n",
    "\n",
    "* Ajoutez les zéros nécessaires pour qu'il soit à phase linéaire et exprimez-le sous forme standard (vous pouvez vous aider de la fonction scipy.signal.zpk2tf en supposant un gain de 1): \n",
    "\\begin{align}\n",
    "H(z) = \\dfrac{\\sum_{m=0}^{M-1} b_m z^{-m}}{\\sum_{n=0}^{N-1} a_n z^{-n}}\n",
    "\\end{align}\n",
    "\n",
    "Tracez sur un diagramme de Bode la réponse en fréquence du filtre avec et sans les zéros ajoutés.\n",
    "* Montrez que l'on a maintenant un filtre à phase linéaire. \n",
    "* Pouvez-vous déterminer quels sont les comportements  (passe-bas, passe-haut, passe-bande,..) de ces deux filtres ?\n"
   ]
  },
  {
   "cell_type": "markdown",
   "metadata": {},
   "source": [
    "**Réponse** :"
   ]
  },
  {
   "cell_type": "markdown",
   "metadata": {},
   "source": [
    "### 3. \n",
    "Toujours pour le même filtre, avec les zéros ajoutés, proposez un schéma de filtre exploitant la symmétrie des coeficients permettant de limter le nombre de multiplications.\n",
    "\n",
    "Pour afficher un dessin vous pouvez par exemple:\n",
    "  - Faire le diagramme en utilisant https://draw.io\n",
    "  - Exporter le dessin au format png, l'enregistrer dans le même dossier que le notebook\n",
    "  - Insérer une cellule  en tapant le code suivant dans une cellule **markdown** (en remplacant structure_ex2 par le nom de votre fichier): "
   ]
  },
  {
   "cell_type": "raw",
   "metadata": {},
   "source": [
    "![picture](structure_ex2.png) "
   ]
  },
  {
   "cell_type": "markdown",
   "metadata": {},
   "source": [
    "## Exercice 3 : Synthèse de filtres par fenêtrage et échantillonage\n",
    "On considère les signaux de deux fichiers audio: 'harry.wav' et 'queen.wav'"
   ]
  },
  {
   "cell_type": "markdown",
   "metadata": {},
   "source": [
    "### 1. Fréquence d'échantillonage\n",
    "\n",
    "* Quelle est la fréquence d'échantillonage des deux fichiers ?\n",
    "\n",
    "*Utilisez le module wavfile de scipy.* "
   ]
  },
  {
   "cell_type": "code",
   "execution_count": null,
   "metadata": {},
   "outputs": [],
   "source": [
    "#Code 3.1\n",
    "\n",
    "## Fichier harry\n",
    "harry_file = 'harry.wav'\n",
    "harry_fs, harry_data =  # utiliser le module wavfile\n",
    "\n",
    "## Fichier queen\n",
    "queen_file = 'queen.wav'\n",
    "queen_fs, queen_data = "
   ]
  },
  {
   "cell_type": "markdown",
   "metadata": {},
   "source": [
    "### 2. Amplitude de la transformée de Fourier \n",
    "\n",
    "* Tracez l'amplitude (dB) de la transformée de Fourier des deux fichiers.\n",
    "\n",
    "*Remarque : Normalisez les données et utilisez numpy.fftfreq pour le traçage.*"
   ]
  },
  {
   "cell_type": "code",
   "execution_count": null,
   "metadata": {},
   "outputs": [],
   "source": [
    "#Code 3.2\n",
    "\n",
    "harry_data = # Normalisez les données\n",
    "queen_data = # Normalisez les données"
   ]
  },
  {
   "cell_type": "code",
   "execution_count": null,
   "metadata": {},
   "outputs": [],
   "source": [
    "harry_fft = # fft\n",
    "harry_fft_freq = # fftshift\n",
    "\n",
    "queen_fft = \n",
    "queen_fft_freq = \n",
    "\n",
    "# Code pour tracer\n",
    "\n",
    "...."
   ]
  },
  {
   "cell_type": "markdown",
   "metadata": {},
   "source": [
    "### 3. Design de filtre par fenêtrage"
   ]
  },
  {
   "cell_type": "markdown",
   "metadata": {},
   "source": [
    "#### 3.a En utilisant le module firwin de Scipy, construisez un filtre passe-bas à 201 coefficients avec une fréquence de coupure de 1 kHz en utilisant les fenêtres suivantes : \n",
    "* Hamming \n",
    "* fenêtre rectangulaire (boxcar)\n",
    "\n",
    "Pour chaque fenêtre : \n",
    "1. Tracez la réponse impulsionnelle du filtre.\n",
    "2. Tracez la transformée de Fourier du filtre, et marquez la fréquence de coupure.(*Astuce : utilisez matplotlib.pyplot.axvline*)\n",
    "3.  Expliquez quelle fenêtre vous parait la meilleure.\n",
    " \n",
    "*Note: Supposez le taux d'échantillonnage pour la fenêtre = taux d'échantillonnage de queen.wav*"
   ]
  },
  {
   "cell_type": "code",
   "execution_count": null,
   "metadata": {},
   "outputs": [],
   "source": [
    "# Code 3.a.1\n",
    "fir_hamming = signal.firwin(...)\n",
    "fir_rect = signal.firwin(....)\n",
    "\n",
    "# Code 3.a.2\n",
    "hamming_fft =       # fft\n",
    "rect_fft = \n",
    "\n",
    "hamming_fft_freq =  # fftfreq\n",
    "rect_fft_freq = "
   ]
  },
  {
   "cell_type": "code",
   "execution_count": null,
   "metadata": {},
   "outputs": [],
   "source": [
    "# Code pour tracer\n",
    "..."
   ]
  },
  {
   "cell_type": "markdown",
   "metadata": {},
   "source": [
    "##### Analyse (3.a.3)  : "
   ]
  },
  {
   "cell_type": "markdown",
   "metadata": {},
   "source": [
    "#### 3.b Filtres passe-bas\n",
    "1. En utilisant le filtre passe-bas construit avec la fenêtre de Hamming, filtrez les deux signaux originaux.\n",
    "2. Enregistrez les signaux filtrés sous forme de fichiers harry_low.wav et queen_low.wav à l'aide de la fonction wavfile.write. Remarque : Normalisez le signal avant d'écrire dans le fichier .wav.\n",
    "3. Affichez l'amplitude (dB) de la transformée de Fourier des signaux filtrés, et marquez la fréquence de coupure."
   ]
  },
  {
   "cell_type": "code",
   "execution_count": null,
   "metadata": {},
   "outputs": [],
   "source": [
    "#Code 3.b.1 et 3.b.2\n",
    "y_low_harry = # convoluer harry_data et fir_hamming\n",
    "y_low_harry = # Normalisez le signal\n",
    "wavfile.write(...) #  Enregistrez les signaux filtrés\n",
    "\n",
    "y_low_queen = \n",
    "y_low_queen = \n",
    "wavfile.write(...) "
   ]
  },
  {
   "cell_type": "code",
   "execution_count": null,
   "metadata": {},
   "outputs": [],
   "source": [
    "# Code 3.b.3\n",
    "harry_low_fft = # fft de y_low_harry\n",
    "harry_low_fft_freq = # fréquences de fft of y_low_harry\n",
    "\n",
    "queen_low_fft = \n",
    "queen_low_fft_freq = "
   ]
  },
  {
   "cell_type": "code",
   "execution_count": null,
   "metadata": {},
   "outputs": [],
   "source": [
    "# Code pour tracer\n",
    "..."
   ]
  },
  {
   "cell_type": "markdown",
   "metadata": {},
   "source": [
    "#### 3.c Filtres passe-haut\n",
    "1. Construisez un filtre passe-haut avec 201 coefficients et une fréquence de coupure de 2 kHz. Utilisez la fenêtre de Hamming.\n",
    "2. Affichez l'amplitude de la transformée de Fourier du filtre.\n",
    "3. Appliquez ce filtre aux deux signaux originaux et enregistrez les signaux filtrés sous forme de fichiers harry_high.wav et queen_high.wav à l'aide de la fonction wavfile.write. Remarque : Normalisez le signal avant d'écrire dans le fichier .wav.\n",
    "4. Affichez l'amplitude (dB) de la transformée de Fourier des signaux filtrés, et marquez la fréquence de coupure.\n"
   ]
  },
  {
   "cell_type": "code",
   "execution_count": null,
   "metadata": {},
   "outputs": [],
   "source": [
    "# Code 3.c.1\n",
    "high_pass = signal.firwin(...)"
   ]
  },
  {
   "cell_type": "code",
   "execution_count": null,
   "metadata": {},
   "outputs": [],
   "source": [
    "# Code 3.c.2\n",
    "high_pass_fft = # fft de filtre passe-haut\n",
    "high_pass_fft_freq = # fréquences de fft "
   ]
  },
  {
   "cell_type": "code",
   "execution_count": null,
   "metadata": {},
   "outputs": [],
   "source": [
    "# Code pour tracer\n",
    "...."
   ]
  },
  {
   "cell_type": "code",
   "execution_count": null,
   "metadata": {},
   "outputs": [],
   "source": [
    "# Code 3.c.3\n",
    "y_high_harry = # convoluer harry_data et high_pass\n",
    "y_high_harry = # Normalisez le signal\n",
    "wavfile.write(...) #  Enregistrez les signaux filtrés\n",
    "\n",
    "y_high_queen = \n",
    "y_high_queen = \n",
    "wavfile.write(...)"
   ]
  },
  {
   "cell_type": "code",
   "execution_count": null,
   "metadata": {},
   "outputs": [],
   "source": [
    "# Code 3.c.4\n",
    "harry_high_fft = # fft of y_high_harry\n",
    "harry_high_fft_freq = # frequencies of fft of y_high_harry\n",
    "\n",
    "queen_high_fft = \n",
    "queen_high_fft_freq = \n",
    "\n",
    "## Code for plotting signals\n",
    "..."
   ]
  },
  {
   "cell_type": "markdown",
   "metadata": {},
   "source": [
    "### 4. Différences audibles\n",
    "Écoutez les signaux filtrés par le filtre passe-bas (harry_low.wav et queen_low.wav) et le passe-haut (harry_high.wav et queen_high.wav). Pour chaque fichier (queen et harry), quel signal filtré ressemble le plus à l'original ? Pourquoi ?"
   ]
  },
  {
   "cell_type": "markdown",
   "metadata": {},
   "source": [
    "#### Analyse : "
   ]
  },
  {
   "cell_type": "code",
   "execution_count": null,
   "metadata": {},
   "outputs": [],
   "source": []
  }
 ],
 "metadata": {
  "kernelspec": {
   "display_name": "Python 3 (ipykernel)",
   "language": "python",
   "name": "python3"
  },
  "language_info": {
   "codemirror_mode": {
    "name": "ipython",
    "version": 3
   },
   "file_extension": ".py",
   "mimetype": "text/x-python",
   "name": "python",
   "nbconvert_exporter": "python",
   "pygments_lexer": "ipython3",
   "version": "3.9.7"
  }
 },
 "nbformat": 4,
 "nbformat_minor": 2
}
