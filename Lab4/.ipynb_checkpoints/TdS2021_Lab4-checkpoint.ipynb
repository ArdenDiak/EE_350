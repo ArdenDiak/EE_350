{
 "cells": [
  {
   "cell_type": "markdown",
   "metadata": {
    "id": "6VbFtL2QCWBd"
   },
   "source": [
    "# Lab 4 - EE350\n",
    "## Étude de filtres\n",
    "\n",
    "À rendre le 25 novembre 2021"
   ]
  },
  {
   "cell_type": "markdown",
   "metadata": {
    "id": "LXD8Kk4HCWBe"
   },
   "source": [
    "#### Nom: Diakhate-Palme, Arden   **Sciper**: 343365"
   ]
  },
  {
   "cell_type": "markdown",
   "metadata": {
    "id": "2XQHXdvgSiG5"
   },
   "source": [
    "Pour les questions de code, vous pouvez utiliser les fonctions freqz et tf2zpk de scipy.signal : "
   ]
  },
  {
   "cell_type": "code",
   "execution_count": 2,
   "metadata": {},
   "outputs": [],
   "source": [
    "# Imports\n",
    "import numpy as np\n",
    "from scipy.signal import freqz, tf2zpk\n",
    "import matplotlib.pyplot as plt"
   ]
  },
  {
   "cell_type": "markdown",
   "metadata": {},
   "source": [
    "Dans ce lab, on ne considère que des filtres physiquement implémentables, pour du traitment de signal temps réel. On peut donc supposer que les systèmes considérés sont causaux."
   ]
  },
  {
   "cell_type": "markdown",
   "metadata": {
    "id": "UqvLTdtyCWBm"
   },
   "source": [
    "## Exercice 1: Étude d'un filtre\n",
    "\n",
    "Considérez le système illustré ci-dessous :\n",
    "\n",
    "\n",
    "![picture](Ex_1.png)"
   ]
  },
  {
   "cell_type": "markdown",
   "metadata": {
    "id": "CP-g1SjrCWBm"
   },
   "source": [
    "#### 1. Déterminer la fonction de transfert du filtre et la mettre sous la forme suivante : \n",
    "\n",
    "$$\\begin{align}\n",
    "H(z) = \\frac{\\sum_{k=0}^K b_k z^{-k}}{\\sum_{k=0}^K a_k z^{-k}}\n",
    "\\end{align}\n",
    "$$"
   ]
  },
  {
   "cell_type": "markdown",
   "metadata": {
    "id": "-cXHZTcICWBn"
   },
   "source": [
    "**Réponse** : \n",
    "\n",
    "\n",
    "\n",
    "\n",
    "\n",
    "\n",
    "\n",
    "\n",
    "\n"
   ]
  },
  {
   "cell_type": "markdown",
   "metadata": {
    "id": "nScCSXckCWBn"
   },
   "source": [
    "#### 2. Quelle est l'équation aux différences régissant ce système ? (Indice : utiliser la fonction de transfert)\n"
   ]
  },
  {
   "cell_type": "markdown",
   "metadata": {
    "id": "jq--g6qMCWBo"
   },
   "source": [
    "**Réponse :**\n",
    "\n",
    "\n",
    "\n",
    "\n",
    "\n",
    "\n",
    "\n",
    "\n",
    "\n"
   ]
  },
  {
   "cell_type": "markdown",
   "metadata": {
    "id": "eZUvJmF0CWBo"
   },
   "source": [
    "#### 3. Pour les paramètres $c_1 = 0.9 , c_2 = 2$ et $c_3 = 3$, calculer les pôles et les zéros du système. Le système est-il stable?"
   ]
  },
  {
   "cell_type": "markdown",
   "metadata": {
    "id": "n8tmJs-_CWBp"
   },
   "source": [
    "**Réponse :**\n",
    "\n",
    "\n",
    "\n",
    "\n",
    "\n",
    "\n",
    "\n",
    "\n",
    "\n"
   ]
  },
  {
   "cell_type": "markdown",
   "metadata": {
    "id": "Wb4qZPm1CWBt"
   },
   "source": [
    "#### 4. Calculer et afficher la magnitude $|H(\\omega)|$ de la réponse fréquentielle du système. De quel type de filtre s'agit-t-il (passe-bas, passe-haut, passe-bande, coupe-bande, passe-tout) ?\n",
    "\n",
    "*Pour calculer $|H(\\omega)|$, créez une variable fréquentielle $\\omega$ dans l'intervalle $[-\\pi, \\pi]$ et tracez la magnitude $|H(z)|$ de la fonction de transfert que vous avez calculée question 2 pour les valeurs de $z$ dans le cercle unité ($z=e^{j \\omega}$).*"
   ]
  },
  {
   "cell_type": "code",
   "execution_count": 18,
   "metadata": {
    "id": "1shrP-27CWBt"
   },
   "outputs": [
    {
     "data": {
      "image/png": "[encoded data removed]",
      "text/plain": [
       "<Figure size 1008x360 with 2 Axes>"
      ]
     },
     "metadata": {
      "needs_background": "light"
     },
     "output_type": "display_data"
    }
   ],
   "source": [
    "def dB(x):\n",
    "    return 20 * np.log10(abs(x))\n",
    "\n",
    "def H(omega, a_coeffs, b_coeffs):\n",
    "    # number of points over which to compute H(w)\n",
    "    x_vals, H= freqz(b_coeffs, a_coeffs ,omega)\n",
    "    \n",
    "    amplitude = dB(H)\n",
    "    phase =  np.unwrap(np.angle(H))\n",
    "    return amplitude, phase, x_vals\n",
    "\n",
    "def plot_magnitude(amplitude, omega, ax1):\n",
    "    ax1.set_xlabel('Frequency [rad/samples]')\n",
    "    ax1.set_ylabel('Amplitude [dB]', color='b')\n",
    "    ax1.set_title('Amplitude $|H(\\omega)|$')\n",
    "    ax1.plot(omega, amplitude, color='b')\n",
    "\n",
    "def plot_phase(phase, omega, ax1):\n",
    "    ax1.set_xlabel('Frequency [rad/samples]')\n",
    "    ax1.set_ylabel('Angle (radians)', color='g')\n",
    "    ax1.set_title('Phase de $H(\\omega)$')\n",
    "    ax1.plot(omega, phase, color='g')\n",
    "\n",
    "\n",
    "b_coeffs= np.array([1,2,3])\n",
    "a_coeffs= np.array([1,0.9])\n",
    "\n",
    "N= 1023 # points \n",
    "omega= np.linspace(-np.pi, np.pi, N);\n",
    "(amplitude, phase, x_vals)= H(omega, a_coeffs, b_coeffs)\n",
    "\n",
    "fig, axs = plt.subplots(1,2,figsize=(14,5))\n",
    "plot_magnitude(amplitude, omega, axs[0])\n",
    "plot_phase(phase, omega, axs[1])\n",
    "\n",
    "plt.show()\n",
    "\n"
   ]
  },
  {
   "cell_type": "markdown",
   "metadata": {
    "id": "stx9Y6Zws9RH"
   },
   "source": [
    "**Réponse :**\n",
    "Il s'agit d'un filtre ***coupe-bande***, mais comme le filtre n'est pas idéal, sa réponse impulsionelle n'est pas égal à 0 pendant la bande coupée.\n",
    "\n"
   ]
  },
  {
   "cell_type": "markdown",
   "metadata": {
    "id": "QKPT8cgcCWBx"
   },
   "source": [
    "## Exercice 2 : Filtre du troisième ordre"
   ]
  },
  {
   "cell_type": "markdown",
   "metadata": {
    "id": "70T-KQ1_CWBx"
   },
   "source": [
    "Considérez le système suivant:\n",
    "\n",
    "$$ y[n] = -a_1y[n-1] - a_2 y[n-2] - a_3 y[n-3] + b_0 x[n] + b_1x[n-1]$$\n",
    "\n",
    "#### 1. Écrivez la function de transfert $H(z)$."
   ]
  },
  {
   "cell_type": "markdown",
   "metadata": {
    "id": "gTzp5QZUCWBx"
   },
   "source": [
    "**Réponse :**\n",
    "\n",
    "\n",
    "\n",
    "\n",
    "\n",
    "\n",
    "\n",
    "\n",
    "\n"
   ]
  },
  {
   "cell_type": "markdown",
   "metadata": {
    "id": "Pln7F797CBDh"
   },
   "source": [
    "####  2. Suggérez une structure d'implémentation pour ce filtre en utilisant le nombre minimum d'éléments \"retard\".\n",
    "\n",
    "Pour afficher un dessin vous pouvez par exemple:\n",
    "  - Faire le diagramme en utilisant https://draw.io (ou le programme que vous préférez)\n",
    "  - Exporter le dessin au format png, l'enregistrer dans le même dossier que le notebook\n",
    "  - Insérer une cellule  en tapant le code suivant dans une cellule **markdown** (en remplaçant structure_ex2 par le nom de votre fichier): "
   ]
  },
  {
   "cell_type": "raw",
   "metadata": {},
   "source": [
    "! [picture](structure_ex2.png) "
   ]
  },
  {
   "cell_type": "markdown",
   "metadata": {},
   "source": [
    "**Réponse :**\n",
    "\n",
    "\n",
    "\n",
    "\n",
    "\n",
    "\n",
    "\n",
    "\n",
    "\n"
   ]
  },
  {
   "cell_type": "markdown",
   "metadata": {
    "id": "mC1P__n1CWBy"
   },
   "source": [
    "#### 3. On suppose que le système est causal et que $a_1= 0.4, a_2=-2.4, a_3=1.6, b_1=-1$. \n",
    "* 3a. Pour quelle valeur de $b_0$ le filtre est-il stable (*Hint: vous pouvez calculez les pôles via Python grâce à la fonction tf2zpk*) ?\n",
    "* 3b Est-ce une bonne idée d'implémenter grâce à un circuit électrique le filtre ainsi obtenu (*Hint: les valeurs des résistances sont souvent données avec des tolérances*)?\n",
    "* 3c Proposez un système (exprimé via une équation aux différences) qui ne souffre pas de ce problème et affichez l'amplitude et la phase de sa réponse en fréquence.\n",
    "* 3d Quel type de filtre (passe-bas, passe-haut, passe-bande, coupe-bande) est-ce ?"
   ]
  },
  {
   "cell_type": "markdown",
   "metadata": {
    "id": "mZvoK9wyCWBz"
   },
   "source": [
    "**Réponse :**\n",
    "\n",
    "$\\begin{align}\n",
    "H(z) &= \\frac{\\sum_{k=0}^{K}b_kz^{-k}}{\\sum_{k=0}^{K}b_kz^{-k}}\n",
    "\\end{align}\n",
    "$\n",
    "\n",
    "***3.a.*** \n",
    "Given $H(z)$ (see above), the numerator coefficients ${b_k}$, $k\\in[0,M]$ only affect the values of the zeros of the the transfer functino $H(z)$. Since the filter's stability depends on whether all of its poles are within the unit-circle drawn in the complex (i.e the poles' magnitudes $\\leq$ 1), changing the value of $b_0$ will only change the location of the real-valued zero, without affecting the filter's stability.\n",
    "\n",
    "***3.b.c.d. ask***\n",
    "Floating point approximation errors due to the finite-word length in the Digital Signal Processor (DSP) may lead to errors that propagate forth, degrading the quality of the filter overtime\n",
    "\n"
   ]
  },
  {
   "cell_type": "code",
   "execution_count": 27,
   "metadata": {},
   "outputs": [
    {
     "name": "stdout",
     "output_type": "stream",
     "text": [
      "zéros: [1.]\n",
      "pôles: [-2. +0.j   0.8+0.4j  0.8-0.4j]\n",
      "\n",
      "la magnitude de pôle p=(-2+0j) est |p|=2.0\n",
      "la magnitude de pôle p=(0.8000000000000002+0.4j) est |p|=0.8944271909999161\n",
      "la magnitude de pôle p=(0.8000000000000002-0.4j) est |p|=0.8944271909999161\n"
     ]
    }
   ],
   "source": [
    "b_coeffs= np.array([1, -1])\n",
    "a_coeffs= np.array([1, 0.4, -2.4, 1.6])\n",
    "\n",
    "(z, p, k)= tf2zpk(b_coeffs,a_coeffs)\n",
    "print(\"zéros: {}\\npôles: {}\\n\".format(z,p))\n",
    "\n",
    "for pole in p:\n",
    "    mag= np.sqrt((pole.real**2) + (pole.imag**2))\n",
    "    print(\"la magnitude de pôle p={} est |p|={}\".format(pole,mag))\n"
   ]
  },
  {
   "cell_type": "markdown",
   "metadata": {
    "id": "uDdXLQ-TCWBz"
   },
   "source": [
    "####  4. Considérez maintenant les valeurs $a_1=0.6, b_0=1.2, b_1=0.8$. \n",
    "* 4a Quelles sont les conditions sur $a_2, a_3$ tel que le filtre reste stable ?\n",
    "* 4b Faites varier $a_2$ et $a_3$ entre $-1.5$ et $1.5$ et affichez l'ensemble des points $(a_2, a_3)$ résultant en un filtre stable.*Hint: vous pouvez vous aider de la fonction plt.matshow*."
   ]
  },
  {
   "cell_type": "markdown",
   "metadata": {
    "id": "g9xZKaSxQoSI"
   },
   "source": [
    "**Réponse :**\n",
    "\n",
    "\n",
    "***4.a.***\n",
    "Pour que le filtre reste stable, $a_2$ et $a_3$ doient être de telle valeur que les pôles de $H(z)$ restent dans le cercle d'unité dans le plan complèxe (soit $p$ un pôle de $H(z)$, alors $|p|<1$ pour que le filtre global reste stable)"
   ]
  },
  {
   "cell_type": "code",
   "execution_count": 65,
   "metadata": {},
   "outputs": [
    {
     "data": {
      "image/png": "[encoded data removed]",
      "text/plain": [
       "<Figure size 288x288 with 1 Axes>"
      ]
     },
     "metadata": {
      "needs_background": "light"
     },
     "output_type": "display_data"
    }
   ],
   "source": [
    "N=10\n",
    "pts= np.linspace(-1.5,1.5, N)\n",
    "matrix= np.zeros((N,N))\n",
    "\n",
    "#fig, ax= plt.subplots(1,1,figsize=(5,5))\n",
    "\n",
    "for x in range(0,N):\n",
    "    for y in range(0,N): \n",
    "\n",
    "        a2= pts[x]\n",
    "        a3= pts[y]\n",
    "        b_coeffs= np.array([1.2, 0.8])\n",
    "        a_coeffs= np.array([1, 0.6, a2, a3])\n",
    "\n",
    "        (z, p, k)= tf2zpk(b_coeffs,a_coeffs)\n",
    "\n",
    "        for pole in p:\n",
    "            mag= np.sqrt((pole.real**2) + (pole.imag**2))\n",
    "            if(mag - 1.0 < 1e-5): \n",
    "                matrix[x,y]= float(mag)\n",
    "plt.matshow(matrix)\n",
    "plt.show()"
   ]
  }
 ],
 "metadata": {
  "colab": {
   "collapsed_sections": [],
   "name": "TdS2020_Lab4_shared.ipynb",
   "provenance": []
  },
  "kernelspec": {
   "display_name": "Python 3 (ipykernel)",
   "language": "python",
   "name": "python3"
  },
  "language_info": {
   "codemirror_mode": {
    "name": "ipython",
    "version": 3
   },
   "file_extension": ".py",
   "mimetype": "text/x-python",
   "name": "python",
   "nbconvert_exporter": "python",
   "pygments_lexer": "ipython3",
   "version": "3.9.7"
  }
 },
 "nbformat": 4,
 "nbformat_minor": 1
}
